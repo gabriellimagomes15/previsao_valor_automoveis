{
  "cells": [
    {
      "cell_type": "code",
      "execution_count": 1,
      "metadata": {
        "id": "zscmhuNKkMSx",
        "colab": {
          "base_uri": "https://localhost:8080/"
        },
        "outputId": "8ea00120-436d-4b97-a683-3a3214461df8"
      },
      "outputs": [
        {
          "output_type": "stream",
          "name": "stdout",
          "text": [
            "/content/drive/MyDrive/Live_workshops_treinamentos/2022_05_ML_precos_carros\n"
          ]
        }
      ],
      "source": [
        "cd drive/MyDrive/Live_workshops_treinamentos/2022_05_ML_precos_carros"
      ]
    },
    {
      "cell_type": "code",
      "execution_count": 8,
      "metadata": {
        "id": "Fv0X4lvXkbsb",
        "colab": {
          "base_uri": "https://localhost:8080/"
        },
        "outputId": "78b1454b-af56-4103-cc2f-111c1d7a159d"
      },
      "outputs": [
        {
          "output_type": "stream",
          "name": "stdout",
          "text": [
            "****************************************************************************************************\n",
            "                          SISTEMA DE PREVISÃO DE VALORES DE AUTOMÓVEIS \n",
            "**************************************************************************************************** \n",
            "\n",
            "=> Qual ano do seu veículo? 2021\n",
            "=> Qual a KM do seu veículo? 9540\n",
            "=> Seu carro é automático? (S/N) S\n",
            "=> Seu carro é diesel? (S/N) N\n",
            "=> Seu carro é flex? (S/N) S\n",
            "=> Seu carro é gasolina? (S/N) N\n",
            "\n",
            "==> O seu veículo custa aproximadamente R$116735\n",
            "\n",
            "**Indice de acerto de 78.54%**\n"
          ]
        }
      ],
      "source": [
        "%run 05_1_funcoes_executar_modelo.ipynb\n",
        "main()"
      ]
    },
    {
      "cell_type": "code",
      "source": [
        ""
      ],
      "metadata": {
        "id": "TpPZ7W0o8Txn"
      },
      "execution_count": null,
      "outputs": []
    }
  ],
  "metadata": {
    "colab": {
      "name": "05_executar_modelo.ipynb",
      "provenance": [],
      "collapsed_sections": []
    },
    "kernelspec": {
      "display_name": "Python 3",
      "name": "python3"
    },
    "language_info": {
      "name": "python"
    }
  },
  "nbformat": 4,
  "nbformat_minor": 0
}
