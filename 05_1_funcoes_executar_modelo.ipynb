{
  "cells": [
    {
      "cell_type": "code",
      "source": [
        ""
      ],
      "metadata": {
        "id": "zSHJcIiiLnb7"
      },
      "execution_count": null,
      "outputs": []
    },
    {
      "cell_type": "markdown",
      "source": [
        "**CASO EXECUTE ESSE SCRIPT INDIVIDUALMENTE, É NECESSÁRIO CONFIGURAR O DIRETÓRIO ANTES**\n",
        "Descomente e execute a célula abaixo"
      ],
      "metadata": {
        "id": "Z6rbju7MLowl"
      }
    },
    {
      "cell_type": "code",
      "execution_count": null,
      "metadata": {
        "id": "zscmhuNKkMSx",
        "colab": {
          "base_uri": "https://localhost:8080/"
        },
        "outputId": "e98644ae-a96c-48ca-fd2d-aadd119f693a"
      },
      "outputs": [
        {
          "output_type": "stream",
          "name": "stdout",
          "text": [
            "/content/drive/MyDrive/Live_workshops_treinamentos/2022_05_ML_precos_carros\n"
          ]
        }
      ],
      "source": [
        "#cd drive/MyDrive/Live_workshops_treinamentos/2022_05_ML_precos_carros"
      ]
    },
    {
      "cell_type": "code",
      "execution_count": null,
      "metadata": {
        "id": "Fv0X4lvXkbsb"
      },
      "outputs": [],
      "source": [
        "import warnings\n",
        "warnings.filterwarnings(\"ignore\")\n",
        "import pandas as pd\n",
        "import numpy as np\n",
        "import joblib as jb"
      ]
    },
    {
      "cell_type": "markdown",
      "source": [
        "# CARREGANDO MODELO FINAL"
      ],
      "metadata": {
        "id": "qz-Kcqmh1Q4l"
      }
    },
    {
      "cell_type": "code",
      "source": [
        "## LENDO ARQUIVO\n",
        "name_model='modelos/previsao_precos_automoveis'\n",
        "name_model='20220602_previsao_precos_automoveis'\n",
        "arquivo_modelo = jb.load(name_model+'.joblib')\n",
        "arquivo_modelo"
      ],
      "metadata": {
        "id": "YrE9F8Tf14Xq",
        "colab": {
          "base_uri": "https://localhost:8080/"
        },
        "outputId": "8fe4123d-f5ef-4baf-d422-2cd560af72dd"
      },
      "execution_count": null,
      "outputs": [
        {
          "output_type": "execute_result",
          "data": {
            "text/plain": [
              "{'metadata': {'author': 'Gabriel Gomes',\n",
              "  'date': '02/06/2022',\n",
              "  'description': \"modelo Regressão Linear para prever valores de automóveis. Foi utilizado a normalização LOG nas variáveis KM e ANO. Foram utilizadas as seguintes colunas: KM_LOG ','ANO_LOG ','automático ','diesel ','flex ','gasolina\",\n",
              "  'metrics': {'r2': 0.78538},\n",
              "  'source_code_version': '0.1'},\n",
              " 'model': LinearRegression()}"
            ]
          },
          "metadata": {},
          "execution_count": 15
        }
      ]
    },
    {
      "cell_type": "code",
      "source": [
        "## MODELO\n",
        "modelo_precos = arquivo_modelo['model']\n",
        "modelo_precos"
      ],
      "metadata": {
        "id": "UO2BCQ2_Hh_f",
        "colab": {
          "base_uri": "https://localhost:8080/"
        },
        "outputId": "a23d2180-ac17-467f-90dc-5f209c9984fa"
      },
      "execution_count": null,
      "outputs": [
        {
          "output_type": "execute_result",
          "data": {
            "text/plain": [
              "LinearRegression()"
            ]
          },
          "metadata": {},
          "execution_count": 5
        }
      ]
    },
    {
      "cell_type": "code",
      "source": [
        "##METRICA\n",
        "metrica = arquivo_modelo['metadata']['metrics']['r2']\n",
        "metrica"
      ],
      "metadata": {
        "id": "-UyT0EmOIKqY",
        "colab": {
          "base_uri": "https://localhost:8080/"
        },
        "outputId": "05a86bcd-2210-42e7-82ac-0438e4723566"
      },
      "execution_count": null,
      "outputs": [
        {
          "output_type": "execute_result",
          "data": {
            "text/plain": [
              "0.78538"
            ]
          },
          "metadata": {},
          "execution_count": 6
        }
      ]
    },
    {
      "cell_type": "code",
      "source": [
        ""
      ],
      "metadata": {
        "id": "hxSMs9kVILoq"
      },
      "execution_count": null,
      "outputs": []
    },
    {
      "cell_type": "markdown",
      "source": [
        "# EXECUTANDO MODELO"
      ],
      "metadata": {
        "id": "YrsEqJHQIMrJ"
      }
    },
    {
      "cell_type": "code",
      "source": [
        "print(\"*\"*100)\n",
        "print(\" \"*25,\"SISTEMA DE PREVISÃO DE VALORES DE AUTOMÓVEIS \")\n",
        "print(\"*\"*100,'\\n')"
      ],
      "metadata": {
        "id": "PFSbDIcO8sZK",
        "colab": {
          "base_uri": "https://localhost:8080/"
        },
        "outputId": "605d4a47-e7b7-4816-d784-895487299127"
      },
      "execution_count": null,
      "outputs": [
        {
          "output_type": "stream",
          "name": "stdout",
          "text": [
            "****************************************************************************************************\n",
            "                          SISTEMA DE PREVISÃO DE VALORES DE AUTOMÓVEIS \n",
            "**************************************************************************************************** \n",
            "\n"
          ]
        }
      ]
    },
    {
      "cell_type": "code",
      "source": [
        "def main():\n",
        "  ANO = float(input('=> Qual ano do seu veículo? '))\n",
        "  KM  = float(input('=> Qual a KM do seu veículo? '))\n",
        "  AUTOMAT  = 1 if input('=> Seu carro é automático? (S/N) ').upper() == 'S' else 0\n",
        "  DIESEL   = 1 if input('=> Seu carro é diesel? (S/N) ').upper()  == 'S' else 0\n",
        "  FLEX     = 1 if input('=> Seu carro é flex? (S/N) ').upper()  == 'S' else 0\n",
        "  GASOLINA = 1 if input('=> Seu carro é gasolina? (S/N) ').upper()  == 'S' else 0\n",
        "\n",
        "  KM  = np.log(KM) if KM > 0 else 0\n",
        "  ANO = np.log(ANO) if ANO > 0 else 0\n",
        "\n",
        "  dados = np.array([[KM,ANO,AUTOMAT,DIESEL, FLEX , GASOLINA]])\n",
        "  \n",
        "  valor_previsto = round(np.exp(modelo_precos.predict(dados)[0]))\n",
        "\n",
        "  print(f\"\\n==> O seu veículo custa aproximadamente R${valor_previsto}\")\n",
        "\n",
        "  print(f\"\\n**Indice de acerto de {round(metrica*100,2)}%**\")"
      ],
      "metadata": {
        "id": "-JxGFEzsIRNw"
      },
      "execution_count": null,
      "outputs": []
    },
    {
      "cell_type": "code",
      "source": [
        ""
      ],
      "metadata": {
        "id": "LqXNjME28vXP"
      },
      "execution_count": null,
      "outputs": []
    }
  ],
  "metadata": {
    "colab": {
      "name": "05.1_funcoes_executar_modelo.ipynb",
      "provenance": [],
      "collapsed_sections": []
    },
    "kernelspec": {
      "display_name": "Python 3",
      "name": "python3"
    },
    "language_info": {
      "name": "python"
    }
  },
  "nbformat": 4,
  "nbformat_minor": 0
}