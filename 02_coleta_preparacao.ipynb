{
  "cells": [
    {
      "cell_type": "code",
      "execution_count": null,
      "metadata": {
        "id": "zscmhuNKkMSx"
      },
      "outputs": [],
      "source": [
        "cd drive/MyDrive/Live_workshops_treinamentos/2022_05_ML_precos_carros"
      ]
    },
    {
      "cell_type": "code",
      "execution_count": 2,
      "metadata": {
        "id": "Fv0X4lvXkbsb"
      },
      "outputs": [],
      "source": [
        "import warnings\n",
        "warnings.filterwarnings(\"ignore\")\n",
        "\n",
        "import pandas as pd\n",
        "import os"
      ]
    },
    {
      "cell_type": "markdown",
      "source": [
        "# COLETA E ENTENDIMENTO  DOS DADOS"
      ],
      "metadata": {
        "id": "maIDLBLoJ_Tj"
      }
    },
    {
      "cell_type": "code",
      "source": [
        "## CRIANDO DATAFRAME QUE IRÁ ARMAZENAR TODOS OS DADOS\n",
        "df_metadados = pd.DataFrame()\n",
        "\n",
        "for arquivo in os.listdir('dados_olx/'):\n",
        "  print(arquivo)\n",
        "  df_metadados = pd.concat([df_metadados,pd.read_csv('dados_olx/'+arquivo)])\n",
        "\n",
        "## RESET NO INDEX\n",
        "df_metadados.reset_index(drop=True,inplace=True)"
      ],
      "metadata": {
        "colab": {
          "base_uri": "https://localhost:8080/"
        },
        "id": "wjAfDl_FqOs_",
        "outputId": "ab3e01fc-f74a-4e1b-d680-ae869e39d63b"
      },
      "execution_count": 3,
      "outputs": [
        {
          "output_type": "stream",
          "name": "stdout",
          "text": [
            "ac_metadados.csv\n",
            "al_metadados.csv\n",
            "ap_metadados.csv\n",
            "am_metadados.csv\n",
            "rj_metadados.csv\n",
            "rn_metadados.csv\n",
            "ba_metadados.csv\n",
            "ce_metadados.csv\n",
            "df_metadados.csv\n",
            "es_metadados.csv\n",
            "go_metadados.csv\n",
            "ma_metadados.csv\n",
            "mt_metadados.csv\n",
            "ms_metadados.csv\n",
            "mg_metadados.csv\n",
            "pa_metadados.csv\n",
            "pb_metadados.csv\n",
            "pr_metadados.csv\n",
            "pe_metadados.csv\n",
            "pi_metadados.csv\n",
            "rs_metadados.csv\n",
            "ro_metadados.csv\n",
            "rr_metadados.csv\n",
            "sc_metadados.csv\n",
            "sp_metadados.csv\n",
            "se_metadados.csv\n",
            "to_metadados.csv\n"
          ]
        }
      ]
    },
    {
      "cell_type": "code",
      "source": [
        "## INFORMAÇÕES RESUMIDA DA TABELA DE DADOS\n",
        "df_metadados.info()"
      ],
      "metadata": {
        "id": "FiEsREd7vMsN",
        "colab": {
          "base_uri": "https://localhost:8080/"
        },
        "outputId": "f55a80a6-ce1a-4fec-c835-b5e8cee21c77"
      },
      "execution_count": 4,
      "outputs": [
        {
          "output_type": "stream",
          "name": "stdout",
          "text": [
            "<class 'pandas.core.frame.DataFrame'>\n",
            "RangeIndex: 122890 entries, 0 to 122889\n",
            "Data columns (total 11 columns):\n",
            " #   Column                 Non-Null Count   Dtype  \n",
            "---  ------                 --------------   -----  \n",
            " 0   ID                     122890 non-null  int64  \n",
            " 1   TITULO                 122890 non-null  object \n",
            " 2   INFOS                  122890 non-null  object \n",
            " 3   VALOR                  117147 non-null  object \n",
            " 4   LOCAL                  122890 non-null  object \n",
            " 5   DATA_ANUNCIO           122890 non-null  object \n",
            " 6   LINK                   122890 non-null  object \n",
            " 7   DATA_COLETA_METADADOS  122890 non-null  object \n",
            " 8   DATA_COLETA_COMPLETA   0 non-null       float64\n",
            " 9   UF                     89371 non-null   object \n",
            " 10  Ano                    104947 non-null  object \n",
            "dtypes: float64(1), int64(1), object(9)\n",
            "memory usage: 10.3+ MB\n"
          ]
        }
      ]
    },
    {
      "cell_type": "code",
      "source": [
        "## VISUALIZANDO APENAS AS PRIMEIRAS LINHAS \n",
        "df_metadados.head()"
      ],
      "metadata": {
        "id": "XfFwhSZgvDOT",
        "colab": {
          "base_uri": "https://localhost:8080/",
          "height": 531
        },
        "outputId": "88649cf2-d7ec-4357-8110-3f5c66e03a8e"
      },
      "execution_count": 5,
      "outputs": [
        {
          "output_type": "execute_result",
          "data": {
            "text/plain": [
              "           ID                         TITULO  \\\n",
              "0   941490102                Nissan Versa SV   \n",
              "1  1028087752  Vende-se Fiat uno motor fire    \n",
              "2  1028087412               Fiesta Titanium    \n",
              "3  1028078970                 Troco em carro   \n",
              "4  1028074386      Chevrolet S10 LTZ Diesel    \n",
              "\n",
              "                                               INFOS       VALOR  \\\n",
              "0         46.000 km  |  Câmbio: Manual  |  Flex  |     R$ 56.000   \n",
              "1        158 km  |  Câmbio: Manual  |  Gasolina  |     R$ 12.500   \n",
              "2  86.790 km  |  Câmbio: Automático  |  Gasolina ...   R$ 38.000   \n",
              "3                                          0 km  |           NaN   \n",
              "4   89.000 km  |  Câmbio: Automático  |  Diesel  |    R$ 131.990   \n",
              "\n",
              "                                  LOCAL DATA_ANUNCIO  \\\n",
              "0           Rio Branco, Bosque - DDD 68  Hoje, 15:19   \n",
              "1               Sena Madureira - DDD 68  Hoje, 15:18   \n",
              "2    Rio Branco, Morada do Sol - DDD 68  Hoje, 15:17   \n",
              "3  Rio Branco, Vila da Amizade - DDD 68  Hoje, 15:02   \n",
              "4                   Rio Branco - DDD 68  Hoje, 14:56   \n",
              "\n",
              "                                                LINK DATA_COLETA_METADADOS  \\\n",
              "0  https://ac.olx.com.br/acre/autos-e-pecas/carro...            2022-05-03   \n",
              "1  https://ac.olx.com.br/acre/autos-e-pecas/carro...            2022-05-03   \n",
              "2  https://ac.olx.com.br/acre/autos-e-pecas/carro...            2022-05-03   \n",
              "3  https://ac.olx.com.br/acre/autos-e-pecas/carro...            2022-05-03   \n",
              "4  https://ac.olx.com.br/acre/autos-e-pecas/carro...            2022-05-03   \n",
              "\n",
              "   DATA_COLETA_COMPLETA   UF     Ano  \n",
              "0                   NaN  NaN  2017.0  \n",
              "1                   NaN  NaN  2003.0  \n",
              "2                   NaN  NaN  2013.0  \n",
              "3                   NaN  NaN  2008.0  \n",
              "4                   NaN  NaN  2013.0  "
            ],
            "text/html": [
              "\n",
              "  <div id=\"df-c4bcf082-5513-4963-b461-39bfab0ddc50\">\n",
              "    <div class=\"colab-df-container\">\n",
              "      <div>\n",
              "<style scoped>\n",
              "    .dataframe tbody tr th:only-of-type {\n",
              "        vertical-align: middle;\n",
              "    }\n",
              "\n",
              "    .dataframe tbody tr th {\n",
              "        vertical-align: top;\n",
              "    }\n",
              "\n",
              "    .dataframe thead th {\n",
              "        text-align: right;\n",
              "    }\n",
              "</style>\n",
              "<table border=\"1\" class=\"dataframe\">\n",
              "  <thead>\n",
              "    <tr style=\"text-align: right;\">\n",
              "      <th></th>\n",
              "      <th>ID</th>\n",
              "      <th>TITULO</th>\n",
              "      <th>INFOS</th>\n",
              "      <th>VALOR</th>\n",
              "      <th>LOCAL</th>\n",
              "      <th>DATA_ANUNCIO</th>\n",
              "      <th>LINK</th>\n",
              "      <th>DATA_COLETA_METADADOS</th>\n",
              "      <th>DATA_COLETA_COMPLETA</th>\n",
              "      <th>UF</th>\n",
              "      <th>Ano</th>\n",
              "    </tr>\n",
              "  </thead>\n",
              "  <tbody>\n",
              "    <tr>\n",
              "      <th>0</th>\n",
              "      <td>941490102</td>\n",
              "      <td>Nissan Versa SV</td>\n",
              "      <td>46.000 km  |  Câmbio: Manual  |  Flex  |</td>\n",
              "      <td>R$ 56.000</td>\n",
              "      <td>Rio Branco, Bosque - DDD 68</td>\n",
              "      <td>Hoje, 15:19</td>\n",
              "      <td>https://ac.olx.com.br/acre/autos-e-pecas/carro...</td>\n",
              "      <td>2022-05-03</td>\n",
              "      <td>NaN</td>\n",
              "      <td>NaN</td>\n",
              "      <td>2017.0</td>\n",
              "    </tr>\n",
              "    <tr>\n",
              "      <th>1</th>\n",
              "      <td>1028087752</td>\n",
              "      <td>Vende-se Fiat uno motor fire</td>\n",
              "      <td>158 km  |  Câmbio: Manual  |  Gasolina  |</td>\n",
              "      <td>R$ 12.500</td>\n",
              "      <td>Sena Madureira - DDD 68</td>\n",
              "      <td>Hoje, 15:18</td>\n",
              "      <td>https://ac.olx.com.br/acre/autos-e-pecas/carro...</td>\n",
              "      <td>2022-05-03</td>\n",
              "      <td>NaN</td>\n",
              "      <td>NaN</td>\n",
              "      <td>2003.0</td>\n",
              "    </tr>\n",
              "    <tr>\n",
              "      <th>2</th>\n",
              "      <td>1028087412</td>\n",
              "      <td>Fiesta Titanium</td>\n",
              "      <td>86.790 km  |  Câmbio: Automático  |  Gasolina ...</td>\n",
              "      <td>R$ 38.000</td>\n",
              "      <td>Rio Branco, Morada do Sol - DDD 68</td>\n",
              "      <td>Hoje, 15:17</td>\n",
              "      <td>https://ac.olx.com.br/acre/autos-e-pecas/carro...</td>\n",
              "      <td>2022-05-03</td>\n",
              "      <td>NaN</td>\n",
              "      <td>NaN</td>\n",
              "      <td>2013.0</td>\n",
              "    </tr>\n",
              "    <tr>\n",
              "      <th>3</th>\n",
              "      <td>1028078970</td>\n",
              "      <td>Troco em carro</td>\n",
              "      <td>0 km  |</td>\n",
              "      <td>NaN</td>\n",
              "      <td>Rio Branco, Vila da Amizade - DDD 68</td>\n",
              "      <td>Hoje, 15:02</td>\n",
              "      <td>https://ac.olx.com.br/acre/autos-e-pecas/carro...</td>\n",
              "      <td>2022-05-03</td>\n",
              "      <td>NaN</td>\n",
              "      <td>NaN</td>\n",
              "      <td>2008.0</td>\n",
              "    </tr>\n",
              "    <tr>\n",
              "      <th>4</th>\n",
              "      <td>1028074386</td>\n",
              "      <td>Chevrolet S10 LTZ Diesel</td>\n",
              "      <td>89.000 km  |  Câmbio: Automático  |  Diesel  |</td>\n",
              "      <td>R$ 131.990</td>\n",
              "      <td>Rio Branco - DDD 68</td>\n",
              "      <td>Hoje, 14:56</td>\n",
              "      <td>https://ac.olx.com.br/acre/autos-e-pecas/carro...</td>\n",
              "      <td>2022-05-03</td>\n",
              "      <td>NaN</td>\n",
              "      <td>NaN</td>\n",
              "      <td>2013.0</td>\n",
              "    </tr>\n",
              "  </tbody>\n",
              "</table>\n",
              "</div>\n",
              "      <button class=\"colab-df-convert\" onclick=\"convertToInteractive('df-c4bcf082-5513-4963-b461-39bfab0ddc50')\"\n",
              "              title=\"Convert this dataframe to an interactive table.\"\n",
              "              style=\"display:none;\">\n",
              "        \n",
              "  <svg xmlns=\"http://www.w3.org/2000/svg\" height=\"24px\"viewBox=\"0 0 24 24\"\n",
              "       width=\"24px\">\n",
              "    <path d=\"M0 0h24v24H0V0z\" fill=\"none\"/>\n",
              "    <path d=\"M18.56 5.44l.94 2.06.94-2.06 2.06-.94-2.06-.94-.94-2.06-.94 2.06-2.06.94zm-11 1L8.5 8.5l.94-2.06 2.06-.94-2.06-.94L8.5 2.5l-.94 2.06-2.06.94zm10 10l.94 2.06.94-2.06 2.06-.94-2.06-.94-.94-2.06-.94 2.06-2.06.94z\"/><path d=\"M17.41 7.96l-1.37-1.37c-.4-.4-.92-.59-1.43-.59-.52 0-1.04.2-1.43.59L10.3 9.45l-7.72 7.72c-.78.78-.78 2.05 0 2.83L4 21.41c.39.39.9.59 1.41.59.51 0 1.02-.2 1.41-.59l7.78-7.78 2.81-2.81c.8-.78.8-2.07 0-2.86zM5.41 20L4 18.59l7.72-7.72 1.47 1.35L5.41 20z\"/>\n",
              "  </svg>\n",
              "      </button>\n",
              "      \n",
              "  <style>\n",
              "    .colab-df-container {\n",
              "      display:flex;\n",
              "      flex-wrap:wrap;\n",
              "      gap: 12px;\n",
              "    }\n",
              "\n",
              "    .colab-df-convert {\n",
              "      background-color: #E8F0FE;\n",
              "      border: none;\n",
              "      border-radius: 50%;\n",
              "      cursor: pointer;\n",
              "      display: none;\n",
              "      fill: #1967D2;\n",
              "      height: 32px;\n",
              "      padding: 0 0 0 0;\n",
              "      width: 32px;\n",
              "    }\n",
              "\n",
              "    .colab-df-convert:hover {\n",
              "      background-color: #E2EBFA;\n",
              "      box-shadow: 0px 1px 2px rgba(60, 64, 67, 0.3), 0px 1px 3px 1px rgba(60, 64, 67, 0.15);\n",
              "      fill: #174EA6;\n",
              "    }\n",
              "\n",
              "    [theme=dark] .colab-df-convert {\n",
              "      background-color: #3B4455;\n",
              "      fill: #D2E3FC;\n",
              "    }\n",
              "\n",
              "    [theme=dark] .colab-df-convert:hover {\n",
              "      background-color: #434B5C;\n",
              "      box-shadow: 0px 1px 3px 1px rgba(0, 0, 0, 0.15);\n",
              "      filter: drop-shadow(0px 1px 2px rgba(0, 0, 0, 0.3));\n",
              "      fill: #FFFFFF;\n",
              "    }\n",
              "  </style>\n",
              "\n",
              "      <script>\n",
              "        const buttonEl =\n",
              "          document.querySelector('#df-c4bcf082-5513-4963-b461-39bfab0ddc50 button.colab-df-convert');\n",
              "        buttonEl.style.display =\n",
              "          google.colab.kernel.accessAllowed ? 'block' : 'none';\n",
              "\n",
              "        async function convertToInteractive(key) {\n",
              "          const element = document.querySelector('#df-c4bcf082-5513-4963-b461-39bfab0ddc50');\n",
              "          const dataTable =\n",
              "            await google.colab.kernel.invokeFunction('convertToInteractive',\n",
              "                                                     [key], {});\n",
              "          if (!dataTable) return;\n",
              "\n",
              "          const docLinkHtml = 'Like what you see? Visit the ' +\n",
              "            '<a target=\"_blank\" href=https://colab.research.google.com/notebooks/data_table.ipynb>data table notebook</a>'\n",
              "            + ' to learn more about interactive tables.';\n",
              "          element.innerHTML = '';\n",
              "          dataTable['output_type'] = 'display_data';\n",
              "          await google.colab.output.renderOutput(dataTable, element);\n",
              "          const docLink = document.createElement('div');\n",
              "          docLink.innerHTML = docLinkHtml;\n",
              "          element.appendChild(docLink);\n",
              "        }\n",
              "      </script>\n",
              "    </div>\n",
              "  </div>\n",
              "  "
            ]
          },
          "metadata": {},
          "execution_count": 5
        }
      ]
    },
    {
      "cell_type": "code",
      "source": [
        "##ELIMINANDO DADOS DUPLICADOS\n",
        "df_metadados_limpos = df_metadados.drop_duplicates(subset=['ID'])\n",
        "df_metadados_limpos.reset_index(inplace=True,drop=True)\n",
        "print(df_metadados_limpos.shape)"
      ],
      "metadata": {
        "id": "e5kpuspqLHE1",
        "colab": {
          "base_uri": "https://localhost:8080/"
        },
        "outputId": "a2f6d60a-d10f-4bf7-dfe0-76cbe9fccee2"
      },
      "execution_count": 6,
      "outputs": [
        {
          "output_type": "stream",
          "name": "stdout",
          "text": [
            "(101000, 11)\n"
          ]
        }
      ]
    },
    {
      "cell_type": "code",
      "source": [
        "print(\"==== INDICE DE NULOS NOS ATRIBUTOS ====\")\n",
        "dados = df_metadados_limpos.copy()\n",
        "(dados.isnull().sum()/len(dados)*100).sort_values(ascending=False)"
      ],
      "metadata": {
        "id": "wUNam06CncSJ",
        "colab": {
          "base_uri": "https://localhost:8080/"
        },
        "outputId": "758a5881-94e4-4901-f185-519ad2de1e65"
      },
      "execution_count": 7,
      "outputs": [
        {
          "output_type": "stream",
          "name": "stdout",
          "text": [
            "==== INDICE DE NULOS NOS ATRIBUTOS ====\n"
          ]
        },
        {
          "output_type": "execute_result",
          "data": {
            "text/plain": [
              "DATA_COLETA_COMPLETA     100.000000\n",
              "Ano                       15.450495\n",
              "UF                        12.785149\n",
              "VALOR                      3.378218\n",
              "ID                         0.000000\n",
              "TITULO                     0.000000\n",
              "INFOS                      0.000000\n",
              "LOCAL                      0.000000\n",
              "DATA_ANUNCIO               0.000000\n",
              "LINK                       0.000000\n",
              "DATA_COLETA_METADADOS      0.000000\n",
              "dtype: float64"
            ]
          },
          "metadata": {},
          "execution_count": 7
        }
      ]
    },
    {
      "cell_type": "code",
      "source": [
        "## ELIMINANDO VALORES EM BRANCO DA COLUNA VALOR\n",
        "df_metadados_limpos.dropna(subset=['VALOR'],inplace=True)"
      ],
      "metadata": {
        "id": "UkuG0eoZn1sz"
      },
      "execution_count": 8,
      "outputs": []
    },
    {
      "cell_type": "code",
      "source": [
        "## DELETANDO COLUNA\n",
        "df_metadados_limpos.drop(columns=['DATA_COLETA_COMPLETA'],inplace=True)\n",
        "\n",
        "df_metadados_limpos.reset_index(inplace=True,drop=True)"
      ],
      "metadata": {
        "id": "WPT31Xhtn09h"
      },
      "execution_count": null,
      "outputs": []
    },
    {
      "cell_type": "code",
      "source": [
        "print(\"==== INDICE DE NULOS NOS ATRIBUTOS ====\")\n",
        "dados = df_metadados_limpos.copy()\n",
        "(dados.isnull().sum()/len(dados)*100).sort_values(ascending=False)"
      ],
      "metadata": {
        "id": "1E6ExbkLn1v6",
        "colab": {
          "base_uri": "https://localhost:8080/"
        },
        "outputId": "1dd8055c-fe17-4ddb-ca2c-823783fac4a2"
      },
      "execution_count": 9,
      "outputs": [
        {
          "output_type": "stream",
          "name": "stdout",
          "text": [
            "==== INDICE DE NULOS NOS ATRIBUTOS ====\n"
          ]
        },
        {
          "output_type": "execute_result",
          "data": {
            "text/plain": [
              "Ano                      15.546993\n",
              "UF                       11.980981\n",
              "ID                        0.000000\n",
              "TITULO                    0.000000\n",
              "INFOS                     0.000000\n",
              "VALOR                     0.000000\n",
              "LOCAL                     0.000000\n",
              "DATA_ANUNCIO              0.000000\n",
              "LINK                      0.000000\n",
              "DATA_COLETA_METADADOS     0.000000\n",
              "dtype: float64"
            ]
          },
          "metadata": {},
          "execution_count": 9
        }
      ]
    },
    {
      "cell_type": "code",
      "source": [
        "df_metadados_limpos.head()"
      ],
      "metadata": {
        "id": "v0SZvHr-oBOo",
        "colab": {
          "base_uri": "https://localhost:8080/",
          "height": 511
        },
        "outputId": "5c8985f9-53eb-4c10-dac2-408b50d8e92c"
      },
      "execution_count": 10,
      "outputs": [
        {
          "output_type": "execute_result",
          "data": {
            "text/plain": [
              "           ID                         TITULO  \\\n",
              "0   941490102                Nissan Versa SV   \n",
              "1  1028087752  Vende-se Fiat uno motor fire    \n",
              "2  1028087412               Fiesta Titanium    \n",
              "3  1028074386      Chevrolet S10 LTZ Diesel    \n",
              "4  1028074010            Vende-se Fiat Stilo   \n",
              "\n",
              "                                               INFOS       VALOR  \\\n",
              "0         46.000 km  |  Câmbio: Manual  |  Flex  |     R$ 56.000   \n",
              "1        158 km  |  Câmbio: Manual  |  Gasolina  |     R$ 12.500   \n",
              "2  86.790 km  |  Câmbio: Automático  |  Gasolina ...   R$ 38.000   \n",
              "3   89.000 km  |  Câmbio: Automático  |  Diesel  |    R$ 131.990   \n",
              "4        170.000 km  |  Câmbio: Manual  |  Flex  |     R$ 16.000   \n",
              "\n",
              "                                     LOCAL DATA_ANUNCIO  \\\n",
              "0              Rio Branco, Bosque - DDD 68  Hoje, 15:19   \n",
              "1                  Sena Madureira - DDD 68  Hoje, 15:18   \n",
              "2       Rio Branco, Morada do Sol - DDD 68  Hoje, 15:17   \n",
              "3                      Rio Branco - DDD 68  Hoje, 14:56   \n",
              "4  Rio Branco, Portal da Amazônia - DDD 68  Hoje, 14:55   \n",
              "\n",
              "                                                LINK DATA_COLETA_METADADOS  \\\n",
              "0  https://ac.olx.com.br/acre/autos-e-pecas/carro...            2022-05-03   \n",
              "1  https://ac.olx.com.br/acre/autos-e-pecas/carro...            2022-05-03   \n",
              "2  https://ac.olx.com.br/acre/autos-e-pecas/carro...            2022-05-03   \n",
              "3  https://ac.olx.com.br/acre/autos-e-pecas/carro...            2022-05-03   \n",
              "4  https://ac.olx.com.br/acre/autos-e-pecas/carro...            2022-05-03   \n",
              "\n",
              "    UF     Ano  \n",
              "0  NaN  2017.0  \n",
              "1  NaN  2003.0  \n",
              "2  NaN  2013.0  \n",
              "3  NaN  2013.0  \n",
              "4  NaN  2007.0  "
            ],
            "text/html": [
              "\n",
              "  <div id=\"df-7428fd01-b928-4249-b0fd-6d0777cb8f22\">\n",
              "    <div class=\"colab-df-container\">\n",
              "      <div>\n",
              "<style scoped>\n",
              "    .dataframe tbody tr th:only-of-type {\n",
              "        vertical-align: middle;\n",
              "    }\n",
              "\n",
              "    .dataframe tbody tr th {\n",
              "        vertical-align: top;\n",
              "    }\n",
              "\n",
              "    .dataframe thead th {\n",
              "        text-align: right;\n",
              "    }\n",
              "</style>\n",
              "<table border=\"1\" class=\"dataframe\">\n",
              "  <thead>\n",
              "    <tr style=\"text-align: right;\">\n",
              "      <th></th>\n",
              "      <th>ID</th>\n",
              "      <th>TITULO</th>\n",
              "      <th>INFOS</th>\n",
              "      <th>VALOR</th>\n",
              "      <th>LOCAL</th>\n",
              "      <th>DATA_ANUNCIO</th>\n",
              "      <th>LINK</th>\n",
              "      <th>DATA_COLETA_METADADOS</th>\n",
              "      <th>UF</th>\n",
              "      <th>Ano</th>\n",
              "    </tr>\n",
              "  </thead>\n",
              "  <tbody>\n",
              "    <tr>\n",
              "      <th>0</th>\n",
              "      <td>941490102</td>\n",
              "      <td>Nissan Versa SV</td>\n",
              "      <td>46.000 km  |  Câmbio: Manual  |  Flex  |</td>\n",
              "      <td>R$ 56.000</td>\n",
              "      <td>Rio Branco, Bosque - DDD 68</td>\n",
              "      <td>Hoje, 15:19</td>\n",
              "      <td>https://ac.olx.com.br/acre/autos-e-pecas/carro...</td>\n",
              "      <td>2022-05-03</td>\n",
              "      <td>NaN</td>\n",
              "      <td>2017.0</td>\n",
              "    </tr>\n",
              "    <tr>\n",
              "      <th>1</th>\n",
              "      <td>1028087752</td>\n",
              "      <td>Vende-se Fiat uno motor fire</td>\n",
              "      <td>158 km  |  Câmbio: Manual  |  Gasolina  |</td>\n",
              "      <td>R$ 12.500</td>\n",
              "      <td>Sena Madureira - DDD 68</td>\n",
              "      <td>Hoje, 15:18</td>\n",
              "      <td>https://ac.olx.com.br/acre/autos-e-pecas/carro...</td>\n",
              "      <td>2022-05-03</td>\n",
              "      <td>NaN</td>\n",
              "      <td>2003.0</td>\n",
              "    </tr>\n",
              "    <tr>\n",
              "      <th>2</th>\n",
              "      <td>1028087412</td>\n",
              "      <td>Fiesta Titanium</td>\n",
              "      <td>86.790 km  |  Câmbio: Automático  |  Gasolina ...</td>\n",
              "      <td>R$ 38.000</td>\n",
              "      <td>Rio Branco, Morada do Sol - DDD 68</td>\n",
              "      <td>Hoje, 15:17</td>\n",
              "      <td>https://ac.olx.com.br/acre/autos-e-pecas/carro...</td>\n",
              "      <td>2022-05-03</td>\n",
              "      <td>NaN</td>\n",
              "      <td>2013.0</td>\n",
              "    </tr>\n",
              "    <tr>\n",
              "      <th>3</th>\n",
              "      <td>1028074386</td>\n",
              "      <td>Chevrolet S10 LTZ Diesel</td>\n",
              "      <td>89.000 km  |  Câmbio: Automático  |  Diesel  |</td>\n",
              "      <td>R$ 131.990</td>\n",
              "      <td>Rio Branco - DDD 68</td>\n",
              "      <td>Hoje, 14:56</td>\n",
              "      <td>https://ac.olx.com.br/acre/autos-e-pecas/carro...</td>\n",
              "      <td>2022-05-03</td>\n",
              "      <td>NaN</td>\n",
              "      <td>2013.0</td>\n",
              "    </tr>\n",
              "    <tr>\n",
              "      <th>4</th>\n",
              "      <td>1028074010</td>\n",
              "      <td>Vende-se Fiat Stilo</td>\n",
              "      <td>170.000 km  |  Câmbio: Manual  |  Flex  |</td>\n",
              "      <td>R$ 16.000</td>\n",
              "      <td>Rio Branco, Portal da Amazônia - DDD 68</td>\n",
              "      <td>Hoje, 14:55</td>\n",
              "      <td>https://ac.olx.com.br/acre/autos-e-pecas/carro...</td>\n",
              "      <td>2022-05-03</td>\n",
              "      <td>NaN</td>\n",
              "      <td>2007.0</td>\n",
              "    </tr>\n",
              "  </tbody>\n",
              "</table>\n",
              "</div>\n",
              "      <button class=\"colab-df-convert\" onclick=\"convertToInteractive('df-7428fd01-b928-4249-b0fd-6d0777cb8f22')\"\n",
              "              title=\"Convert this dataframe to an interactive table.\"\n",
              "              style=\"display:none;\">\n",
              "        \n",
              "  <svg xmlns=\"http://www.w3.org/2000/svg\" height=\"24px\"viewBox=\"0 0 24 24\"\n",
              "       width=\"24px\">\n",
              "    <path d=\"M0 0h24v24H0V0z\" fill=\"none\"/>\n",
              "    <path d=\"M18.56 5.44l.94 2.06.94-2.06 2.06-.94-2.06-.94-.94-2.06-.94 2.06-2.06.94zm-11 1L8.5 8.5l.94-2.06 2.06-.94-2.06-.94L8.5 2.5l-.94 2.06-2.06.94zm10 10l.94 2.06.94-2.06 2.06-.94-2.06-.94-.94-2.06-.94 2.06-2.06.94z\"/><path d=\"M17.41 7.96l-1.37-1.37c-.4-.4-.92-.59-1.43-.59-.52 0-1.04.2-1.43.59L10.3 9.45l-7.72 7.72c-.78.78-.78 2.05 0 2.83L4 21.41c.39.39.9.59 1.41.59.51 0 1.02-.2 1.41-.59l7.78-7.78 2.81-2.81c.8-.78.8-2.07 0-2.86zM5.41 20L4 18.59l7.72-7.72 1.47 1.35L5.41 20z\"/>\n",
              "  </svg>\n",
              "      </button>\n",
              "      \n",
              "  <style>\n",
              "    .colab-df-container {\n",
              "      display:flex;\n",
              "      flex-wrap:wrap;\n",
              "      gap: 12px;\n",
              "    }\n",
              "\n",
              "    .colab-df-convert {\n",
              "      background-color: #E8F0FE;\n",
              "      border: none;\n",
              "      border-radius: 50%;\n",
              "      cursor: pointer;\n",
              "      display: none;\n",
              "      fill: #1967D2;\n",
              "      height: 32px;\n",
              "      padding: 0 0 0 0;\n",
              "      width: 32px;\n",
              "    }\n",
              "\n",
              "    .colab-df-convert:hover {\n",
              "      background-color: #E2EBFA;\n",
              "      box-shadow: 0px 1px 2px rgba(60, 64, 67, 0.3), 0px 1px 3px 1px rgba(60, 64, 67, 0.15);\n",
              "      fill: #174EA6;\n",
              "    }\n",
              "\n",
              "    [theme=dark] .colab-df-convert {\n",
              "      background-color: #3B4455;\n",
              "      fill: #D2E3FC;\n",
              "    }\n",
              "\n",
              "    [theme=dark] .colab-df-convert:hover {\n",
              "      background-color: #434B5C;\n",
              "      box-shadow: 0px 1px 3px 1px rgba(0, 0, 0, 0.15);\n",
              "      filter: drop-shadow(0px 1px 2px rgba(0, 0, 0, 0.3));\n",
              "      fill: #FFFFFF;\n",
              "    }\n",
              "  </style>\n",
              "\n",
              "      <script>\n",
              "        const buttonEl =\n",
              "          document.querySelector('#df-7428fd01-b928-4249-b0fd-6d0777cb8f22 button.colab-df-convert');\n",
              "        buttonEl.style.display =\n",
              "          google.colab.kernel.accessAllowed ? 'block' : 'none';\n",
              "\n",
              "        async function convertToInteractive(key) {\n",
              "          const element = document.querySelector('#df-7428fd01-b928-4249-b0fd-6d0777cb8f22');\n",
              "          const dataTable =\n",
              "            await google.colab.kernel.invokeFunction('convertToInteractive',\n",
              "                                                     [key], {});\n",
              "          if (!dataTable) return;\n",
              "\n",
              "          const docLinkHtml = 'Like what you see? Visit the ' +\n",
              "            '<a target=\"_blank\" href=https://colab.research.google.com/notebooks/data_table.ipynb>data table notebook</a>'\n",
              "            + ' to learn more about interactive tables.';\n",
              "          element.innerHTML = '';\n",
              "          dataTable['output_type'] = 'display_data';\n",
              "          await google.colab.output.renderOutput(dataTable, element);\n",
              "          const docLink = document.createElement('div');\n",
              "          docLink.innerHTML = docLinkHtml;\n",
              "          element.appendChild(docLink);\n",
              "        }\n",
              "      </script>\n",
              "    </div>\n",
              "  </div>\n",
              "  "
            ]
          },
          "metadata": {},
          "execution_count": 10
        }
      ]
    },
    {
      "cell_type": "markdown",
      "source": [
        "# PREPARAÇÃO/TRATAMENTO NOS DADOS\n",
        "- Com base no que foi analisado inicialmente nos dados, vamos realizar os seguintes procedimentos para tratar os dados\n",
        "  - Converter todos os atributos para minúsculo  \n",
        "  - INFOS: dividir em **km, cambio e combustivel** em novas colunas. Retirar ponto do KM e converter para **float**\n",
        "  - VALOR: limpar R$, retirar ponto e converter para float\n",
        "  - LOCAL: excluir coluna (já temos a UF)\n",
        "  - DATA_ANUNCIO: excluir coluna\n",
        "  - LINK: excluir coluna\n",
        "  - DATA_COLETA: excluir coluna.\n",
        "  - UF: corrigir linhas NULAS utilizando a coluna LINK para recuperar a UF"
      ],
      "metadata": {
        "id": "QskmadglZO9b"
      }
    },
    {
      "cell_type": "code",
      "source": [
        "## CONVERTENDO TODAS OS ATRIBUTOS TEXTUAIS PARA MINUSCULO\n",
        "df_metadados_limpos = df_metadados_limpos.applymap(lambda s:s.lower() if type(s) == str else s)\n",
        "df_metadados_limpos.head(5)"
      ],
      "metadata": {
        "colab": {
          "base_uri": "https://localhost:8080/",
          "height": 458
        },
        "id": "RnjYArW34uG7",
        "outputId": "95a69879-6327-4e02-9da0-f750290d19fb"
      },
      "execution_count": 11,
      "outputs": [
        {
          "output_type": "execute_result",
          "data": {
            "text/plain": [
              "           ID                         TITULO  \\\n",
              "0   941490102                nissan versa sv   \n",
              "1  1028087752  vende-se fiat uno motor fire    \n",
              "2  1028087412               fiesta titanium    \n",
              "3  1028074386      chevrolet s10 ltz diesel    \n",
              "4  1028074010            vende-se fiat stilo   \n",
              "\n",
              "                                               INFOS       VALOR  \\\n",
              "0         46.000 km  |  câmbio: manual  |  flex  |     r$ 56.000   \n",
              "1        158 km  |  câmbio: manual  |  gasolina  |     r$ 12.500   \n",
              "2  86.790 km  |  câmbio: automático  |  gasolina ...   r$ 38.000   \n",
              "3   89.000 km  |  câmbio: automático  |  diesel  |    r$ 131.990   \n",
              "4        170.000 km  |  câmbio: manual  |  flex  |     r$ 16.000   \n",
              "\n",
              "                                     LOCAL DATA_ANUNCIO  \\\n",
              "0              rio branco, bosque - ddd 68  hoje, 15:19   \n",
              "1                  sena madureira - ddd 68  hoje, 15:18   \n",
              "2       rio branco, morada do sol - ddd 68  hoje, 15:17   \n",
              "3                      rio branco - ddd 68  hoje, 14:56   \n",
              "4  rio branco, portal da amazônia - ddd 68  hoje, 14:55   \n",
              "\n",
              "                                                LINK DATA_COLETA_METADADOS  \\\n",
              "0  https://ac.olx.com.br/acre/autos-e-pecas/carro...            2022-05-03   \n",
              "1  https://ac.olx.com.br/acre/autos-e-pecas/carro...            2022-05-03   \n",
              "2  https://ac.olx.com.br/acre/autos-e-pecas/carro...            2022-05-03   \n",
              "3  https://ac.olx.com.br/acre/autos-e-pecas/carro...            2022-05-03   \n",
              "4  https://ac.olx.com.br/acre/autos-e-pecas/carro...            2022-05-03   \n",
              "\n",
              "    UF     Ano  \n",
              "0  NaN  2017.0  \n",
              "1  NaN  2003.0  \n",
              "2  NaN  2013.0  \n",
              "3  NaN  2013.0  \n",
              "4  NaN  2007.0  "
            ],
            "text/html": [
              "\n",
              "  <div id=\"df-52806ba7-4b72-45a8-a7e5-5cf541763b47\">\n",
              "    <div class=\"colab-df-container\">\n",
              "      <div>\n",
              "<style scoped>\n",
              "    .dataframe tbody tr th:only-of-type {\n",
              "        vertical-align: middle;\n",
              "    }\n",
              "\n",
              "    .dataframe tbody tr th {\n",
              "        vertical-align: top;\n",
              "    }\n",
              "\n",
              "    .dataframe thead th {\n",
              "        text-align: right;\n",
              "    }\n",
              "</style>\n",
              "<table border=\"1\" class=\"dataframe\">\n",
              "  <thead>\n",
              "    <tr style=\"text-align: right;\">\n",
              "      <th></th>\n",
              "      <th>ID</th>\n",
              "      <th>TITULO</th>\n",
              "      <th>INFOS</th>\n",
              "      <th>VALOR</th>\n",
              "      <th>LOCAL</th>\n",
              "      <th>DATA_ANUNCIO</th>\n",
              "      <th>LINK</th>\n",
              "      <th>DATA_COLETA_METADADOS</th>\n",
              "      <th>UF</th>\n",
              "      <th>Ano</th>\n",
              "    </tr>\n",
              "  </thead>\n",
              "  <tbody>\n",
              "    <tr>\n",
              "      <th>0</th>\n",
              "      <td>941490102</td>\n",
              "      <td>nissan versa sv</td>\n",
              "      <td>46.000 km  |  câmbio: manual  |  flex  |</td>\n",
              "      <td>r$ 56.000</td>\n",
              "      <td>rio branco, bosque - ddd 68</td>\n",
              "      <td>hoje, 15:19</td>\n",
              "      <td>https://ac.olx.com.br/acre/autos-e-pecas/carro...</td>\n",
              "      <td>2022-05-03</td>\n",
              "      <td>NaN</td>\n",
              "      <td>2017.0</td>\n",
              "    </tr>\n",
              "    <tr>\n",
              "      <th>1</th>\n",
              "      <td>1028087752</td>\n",
              "      <td>vende-se fiat uno motor fire</td>\n",
              "      <td>158 km  |  câmbio: manual  |  gasolina  |</td>\n",
              "      <td>r$ 12.500</td>\n",
              "      <td>sena madureira - ddd 68</td>\n",
              "      <td>hoje, 15:18</td>\n",
              "      <td>https://ac.olx.com.br/acre/autos-e-pecas/carro...</td>\n",
              "      <td>2022-05-03</td>\n",
              "      <td>NaN</td>\n",
              "      <td>2003.0</td>\n",
              "    </tr>\n",
              "    <tr>\n",
              "      <th>2</th>\n",
              "      <td>1028087412</td>\n",
              "      <td>fiesta titanium</td>\n",
              "      <td>86.790 km  |  câmbio: automático  |  gasolina ...</td>\n",
              "      <td>r$ 38.000</td>\n",
              "      <td>rio branco, morada do sol - ddd 68</td>\n",
              "      <td>hoje, 15:17</td>\n",
              "      <td>https://ac.olx.com.br/acre/autos-e-pecas/carro...</td>\n",
              "      <td>2022-05-03</td>\n",
              "      <td>NaN</td>\n",
              "      <td>2013.0</td>\n",
              "    </tr>\n",
              "    <tr>\n",
              "      <th>3</th>\n",
              "      <td>1028074386</td>\n",
              "      <td>chevrolet s10 ltz diesel</td>\n",
              "      <td>89.000 km  |  câmbio: automático  |  diesel  |</td>\n",
              "      <td>r$ 131.990</td>\n",
              "      <td>rio branco - ddd 68</td>\n",
              "      <td>hoje, 14:56</td>\n",
              "      <td>https://ac.olx.com.br/acre/autos-e-pecas/carro...</td>\n",
              "      <td>2022-05-03</td>\n",
              "      <td>NaN</td>\n",
              "      <td>2013.0</td>\n",
              "    </tr>\n",
              "    <tr>\n",
              "      <th>4</th>\n",
              "      <td>1028074010</td>\n",
              "      <td>vende-se fiat stilo</td>\n",
              "      <td>170.000 km  |  câmbio: manual  |  flex  |</td>\n",
              "      <td>r$ 16.000</td>\n",
              "      <td>rio branco, portal da amazônia - ddd 68</td>\n",
              "      <td>hoje, 14:55</td>\n",
              "      <td>https://ac.olx.com.br/acre/autos-e-pecas/carro...</td>\n",
              "      <td>2022-05-03</td>\n",
              "      <td>NaN</td>\n",
              "      <td>2007.0</td>\n",
              "    </tr>\n",
              "  </tbody>\n",
              "</table>\n",
              "</div>\n",
              "      <button class=\"colab-df-convert\" onclick=\"convertToInteractive('df-52806ba7-4b72-45a8-a7e5-5cf541763b47')\"\n",
              "              title=\"Convert this dataframe to an interactive table.\"\n",
              "              style=\"display:none;\">\n",
              "        \n",
              "  <svg xmlns=\"http://www.w3.org/2000/svg\" height=\"24px\"viewBox=\"0 0 24 24\"\n",
              "       width=\"24px\">\n",
              "    <path d=\"M0 0h24v24H0V0z\" fill=\"none\"/>\n",
              "    <path d=\"M18.56 5.44l.94 2.06.94-2.06 2.06-.94-2.06-.94-.94-2.06-.94 2.06-2.06.94zm-11 1L8.5 8.5l.94-2.06 2.06-.94-2.06-.94L8.5 2.5l-.94 2.06-2.06.94zm10 10l.94 2.06.94-2.06 2.06-.94-2.06-.94-.94-2.06-.94 2.06-2.06.94z\"/><path d=\"M17.41 7.96l-1.37-1.37c-.4-.4-.92-.59-1.43-.59-.52 0-1.04.2-1.43.59L10.3 9.45l-7.72 7.72c-.78.78-.78 2.05 0 2.83L4 21.41c.39.39.9.59 1.41.59.51 0 1.02-.2 1.41-.59l7.78-7.78 2.81-2.81c.8-.78.8-2.07 0-2.86zM5.41 20L4 18.59l7.72-7.72 1.47 1.35L5.41 20z\"/>\n",
              "  </svg>\n",
              "      </button>\n",
              "      \n",
              "  <style>\n",
              "    .colab-df-container {\n",
              "      display:flex;\n",
              "      flex-wrap:wrap;\n",
              "      gap: 12px;\n",
              "    }\n",
              "\n",
              "    .colab-df-convert {\n",
              "      background-color: #E8F0FE;\n",
              "      border: none;\n",
              "      border-radius: 50%;\n",
              "      cursor: pointer;\n",
              "      display: none;\n",
              "      fill: #1967D2;\n",
              "      height: 32px;\n",
              "      padding: 0 0 0 0;\n",
              "      width: 32px;\n",
              "    }\n",
              "\n",
              "    .colab-df-convert:hover {\n",
              "      background-color: #E2EBFA;\n",
              "      box-shadow: 0px 1px 2px rgba(60, 64, 67, 0.3), 0px 1px 3px 1px rgba(60, 64, 67, 0.15);\n",
              "      fill: #174EA6;\n",
              "    }\n",
              "\n",
              "    [theme=dark] .colab-df-convert {\n",
              "      background-color: #3B4455;\n",
              "      fill: #D2E3FC;\n",
              "    }\n",
              "\n",
              "    [theme=dark] .colab-df-convert:hover {\n",
              "      background-color: #434B5C;\n",
              "      box-shadow: 0px 1px 3px 1px rgba(0, 0, 0, 0.15);\n",
              "      filter: drop-shadow(0px 1px 2px rgba(0, 0, 0, 0.3));\n",
              "      fill: #FFFFFF;\n",
              "    }\n",
              "  </style>\n",
              "\n",
              "      <script>\n",
              "        const buttonEl =\n",
              "          document.querySelector('#df-52806ba7-4b72-45a8-a7e5-5cf541763b47 button.colab-df-convert');\n",
              "        buttonEl.style.display =\n",
              "          google.colab.kernel.accessAllowed ? 'block' : 'none';\n",
              "\n",
              "        async function convertToInteractive(key) {\n",
              "          const element = document.querySelector('#df-52806ba7-4b72-45a8-a7e5-5cf541763b47');\n",
              "          const dataTable =\n",
              "            await google.colab.kernel.invokeFunction('convertToInteractive',\n",
              "                                                     [key], {});\n",
              "          if (!dataTable) return;\n",
              "\n",
              "          const docLinkHtml = 'Like what you see? Visit the ' +\n",
              "            '<a target=\"_blank\" href=https://colab.research.google.com/notebooks/data_table.ipynb>data table notebook</a>'\n",
              "            + ' to learn more about interactive tables.';\n",
              "          element.innerHTML = '';\n",
              "          dataTable['output_type'] = 'display_data';\n",
              "          await google.colab.output.renderOutput(dataTable, element);\n",
              "          const docLink = document.createElement('div');\n",
              "          docLink.innerHTML = docLinkHtml;\n",
              "          element.appendChild(docLink);\n",
              "        }\n",
              "      </script>\n",
              "    </div>\n",
              "  </div>\n",
              "  "
            ]
          },
          "metadata": {},
          "execution_count": 11
        }
      ]
    },
    {
      "cell_type": "markdown",
      "source": [
        "### **TRATANDO VALORES EM INFOS**"
      ],
      "metadata": {
        "id": "G1PD7IqKodsT"
      }
    },
    {
      "cell_type": "code",
      "source": [
        "#VISUALIZANDO VALORE EM INFOS\n",
        "df_metadados_limpos.INFOS[:5]"
      ],
      "metadata": {
        "colab": {
          "base_uri": "https://localhost:8080/"
        },
        "id": "y84EL4Zz2NUx",
        "outputId": "584ff4e1-b2bf-4779-9a93-e81d965dc1c6"
      },
      "execution_count": 12,
      "outputs": [
        {
          "output_type": "execute_result",
          "data": {
            "text/plain": [
              "0           46.000 km  |  câmbio: manual  |  flex  |  \n",
              "1          158 km  |  câmbio: manual  |  gasolina  |  \n",
              "2    86.790 km  |  câmbio: automático  |  gasolina ...\n",
              "3     89.000 km  |  câmbio: automático  |  diesel  |  \n",
              "4          170.000 km  |  câmbio: manual  |  flex  |  \n",
              "Name: INFOS, dtype: object"
            ]
          },
          "metadata": {},
          "execution_count": 12
        }
      ]
    },
    {
      "cell_type": "code",
      "source": [
        "#VISUALIZANDO VALORE EM INFOS\n",
        "df_metadados_limpos.INFOS[0]"
      ],
      "metadata": {
        "colab": {
          "base_uri": "https://localhost:8080/",
          "height": 35
        },
        "id": "11zQtpOW3TFD",
        "outputId": "b7c93de4-e742-48a2-bf24-11c07cb5b79e"
      },
      "execution_count": 13,
      "outputs": [
        {
          "output_type": "execute_result",
          "data": {
            "text/plain": [
              "'46.000 km\\xa0\\xa0|\\xa0\\xa0câmbio: manual\\xa0\\xa0|\\xa0\\xa0flex\\xa0\\xa0|\\xa0\\xa0'"
            ],
            "application/vnd.google.colaboratory.intrinsic+json": {
              "type": "string"
            }
          },
          "metadata": {},
          "execution_count": 13
        }
      ]
    },
    {
      "cell_type": "code",
      "source": [
        "# LIMPANDO CARACTERES km, cambio, espaços em branco, : e .\n",
        "infos = df_metadados_limpos.INFOS[:].str.replace(\"km|câmbio|:|\\xa0|\\.|\\s+\",\"\",regex=True)\n",
        "print(infos)"
      ],
      "metadata": {
        "id": "rrsX73J4LIfm",
        "colab": {
          "base_uri": "https://localhost:8080/"
        },
        "outputId": "f770a29c-ace4-4150-c680-c33d7624aae5"
      },
      "execution_count": 14,
      "outputs": [
        {
          "output_type": "stream",
          "name": "stdout",
          "text": [
            "0                46000|manual|flex|\n",
            "1              158|manual|gasolina|\n",
            "2        86790|automático|gasolina|\n",
            "3          89000|automático|diesel|\n",
            "4               170000|manual|flex|\n",
            "                    ...            \n",
            "97583          0|automático|diesel|\n",
            "97584        98000|automático|flex|\n",
            "97585                0|manual|flex|\n",
            "97586       127000|automático|flex|\n",
            "97587     183000|automático|diesel|\n",
            "Name: INFOS, Length: 97588, dtype: object\n"
          ]
        }
      ]
    },
    {
      "cell_type": "code",
      "source": [
        "## DIVINDO DADOS DE INFOS\n",
        "infos.str.split(\"|\")"
      ],
      "metadata": {
        "id": "T4mPDtzfx2gc",
        "colab": {
          "base_uri": "https://localhost:8080/"
        },
        "outputId": "c6db62d7-57cd-4910-aa92-6cdd683ae236"
      },
      "execution_count": 15,
      "outputs": [
        {
          "output_type": "execute_result",
          "data": {
            "text/plain": [
              "0                [46000, manual, flex, ]\n",
              "1              [158, manual, gasolina, ]\n",
              "2        [86790, automático, gasolina, ]\n",
              "3          [89000, automático, diesel, ]\n",
              "4               [170000, manual, flex, ]\n",
              "                      ...               \n",
              "97583          [0, automático, diesel, ]\n",
              "97584        [98000, automático, flex, ]\n",
              "97585                [0, manual, flex, ]\n",
              "97586       [127000, automático, flex, ]\n",
              "97587     [183000, automático, diesel, ]\n",
              "Name: INFOS, Length: 97588, dtype: object"
            ]
          },
          "metadata": {},
          "execution_count": 15
        }
      ]
    },
    {
      "cell_type": "code",
      "source": [
        "# LIMPANDO CARACTERE | QUE ESTÁ SOBRANDO NO FINAL\n",
        "infos = infos.str.replace(\"\\|$\",\"\",regex=True)\n",
        "print(infos)"
      ],
      "metadata": {
        "id": "wt17oj1x3Rgb",
        "colab": {
          "base_uri": "https://localhost:8080/"
        },
        "outputId": "7862a18e-581c-4314-967f-eeb5557db5fc"
      },
      "execution_count": 17,
      "outputs": [
        {
          "output_type": "stream",
          "name": "stdout",
          "text": [
            "0                46000|manual|flex\n",
            "1              158|manual|gasolina\n",
            "2        86790|automático|gasolina\n",
            "3          89000|automático|diesel\n",
            "4               170000|manual|flex\n",
            "                   ...            \n",
            "97583          0|automático|diesel\n",
            "97584        98000|automático|flex\n",
            "97585                0|manual|flex\n",
            "97586       127000|automático|flex\n",
            "97587     183000|automático|diesel\n",
            "Name: INFOS, Length: 97588, dtype: object\n"
          ]
        }
      ]
    },
    {
      "cell_type": "code",
      "source": [
        "## DIVINDO DADOS DE INFOS\n",
        "infos = infos.str.split(\"|\")\n",
        "print(infos)"
      ],
      "metadata": {
        "id": "0ky4HOLd4FJt",
        "colab": {
          "base_uri": "https://localhost:8080/"
        },
        "outputId": "0f467ffa-28ba-492a-a94a-7be2fe3607cf"
      },
      "execution_count": 18,
      "outputs": [
        {
          "output_type": "stream",
          "name": "stdout",
          "text": [
            "0                [46000, manual, flex]\n",
            "1              [158, manual, gasolina]\n",
            "2        [86790, automático, gasolina]\n",
            "3          [89000, automático, diesel]\n",
            "4               [170000, manual, flex]\n",
            "                     ...              \n",
            "97583          [0, automático, diesel]\n",
            "97584        [98000, automático, flex]\n",
            "97585                [0, manual, flex]\n",
            "97586       [127000, automático, flex]\n",
            "97587     [183000, automático, diesel]\n",
            "Name: INFOS, Length: 97588, dtype: object\n"
          ]
        }
      ]
    },
    {
      "cell_type": "code",
      "source": [
        "## CRIANDO LISTA COM AS INFOS\n",
        "lista_infos = [i for i in infos]\n",
        "lista_infos[:10]"
      ],
      "metadata": {
        "id": "SjivD-Xkx2lS",
        "colab": {
          "base_uri": "https://localhost:8080/"
        },
        "outputId": "d56d5ab1-c3e6-46fa-955f-3b75c967eca8"
      },
      "execution_count": 20,
      "outputs": [
        {
          "output_type": "execute_result",
          "data": {
            "text/plain": [
              "[['46000', 'manual', 'flex'],\n",
              " ['158', 'manual', 'gasolina'],\n",
              " ['86790', 'automático', 'gasolina'],\n",
              " ['89000', 'automático', 'diesel'],\n",
              " ['170000', 'manual', 'flex'],\n",
              " ['50000', 'manual', 'flex'],\n",
              " ['52990', 'manual', 'flex'],\n",
              " ['85000', 'automático', 'flex'],\n",
              " ['149000', 'manual', 'flex'],\n",
              " ['63000', 'manual', 'gasolina']]"
            ]
          },
          "metadata": {},
          "execution_count": 20
        }
      ]
    },
    {
      "cell_type": "code",
      "source": [
        "## CRIANDO DATAFRAME COM INFOS VEÍCULOS\n",
        "infos_veiculo = pd.DataFrame(lista_infos, columns = ['KM','CAMBIO','COMBUSTIVEL'])\n",
        "print(infos_veiculo.shape)\n",
        "infos_veiculo.head()"
      ],
      "metadata": {
        "id": "LJ86Bipjx2nq",
        "colab": {
          "base_uri": "https://localhost:8080/",
          "height": 224
        },
        "outputId": "492f91b7-dcd5-4d2f-d71c-0555587555b7"
      },
      "execution_count": 21,
      "outputs": [
        {
          "output_type": "stream",
          "name": "stdout",
          "text": [
            "(97588, 3)\n"
          ]
        },
        {
          "output_type": "execute_result",
          "data": {
            "text/plain": [
              "       KM      CAMBIO COMBUSTIVEL\n",
              "0   46000      manual        flex\n",
              "1     158      manual    gasolina\n",
              "2   86790  automático    gasolina\n",
              "3   89000  automático      diesel\n",
              "4  170000      manual        flex"
            ],
            "text/html": [
              "\n",
              "  <div id=\"df-a23457fa-d4ff-496b-a64b-f122fe24c9cf\">\n",
              "    <div class=\"colab-df-container\">\n",
              "      <div>\n",
              "<style scoped>\n",
              "    .dataframe tbody tr th:only-of-type {\n",
              "        vertical-align: middle;\n",
              "    }\n",
              "\n",
              "    .dataframe tbody tr th {\n",
              "        vertical-align: top;\n",
              "    }\n",
              "\n",
              "    .dataframe thead th {\n",
              "        text-align: right;\n",
              "    }\n",
              "</style>\n",
              "<table border=\"1\" class=\"dataframe\">\n",
              "  <thead>\n",
              "    <tr style=\"text-align: right;\">\n",
              "      <th></th>\n",
              "      <th>KM</th>\n",
              "      <th>CAMBIO</th>\n",
              "      <th>COMBUSTIVEL</th>\n",
              "    </tr>\n",
              "  </thead>\n",
              "  <tbody>\n",
              "    <tr>\n",
              "      <th>0</th>\n",
              "      <td>46000</td>\n",
              "      <td>manual</td>\n",
              "      <td>flex</td>\n",
              "    </tr>\n",
              "    <tr>\n",
              "      <th>1</th>\n",
              "      <td>158</td>\n",
              "      <td>manual</td>\n",
              "      <td>gasolina</td>\n",
              "    </tr>\n",
              "    <tr>\n",
              "      <th>2</th>\n",
              "      <td>86790</td>\n",
              "      <td>automático</td>\n",
              "      <td>gasolina</td>\n",
              "    </tr>\n",
              "    <tr>\n",
              "      <th>3</th>\n",
              "      <td>89000</td>\n",
              "      <td>automático</td>\n",
              "      <td>diesel</td>\n",
              "    </tr>\n",
              "    <tr>\n",
              "      <th>4</th>\n",
              "      <td>170000</td>\n",
              "      <td>manual</td>\n",
              "      <td>flex</td>\n",
              "    </tr>\n",
              "  </tbody>\n",
              "</table>\n",
              "</div>\n",
              "      <button class=\"colab-df-convert\" onclick=\"convertToInteractive('df-a23457fa-d4ff-496b-a64b-f122fe24c9cf')\"\n",
              "              title=\"Convert this dataframe to an interactive table.\"\n",
              "              style=\"display:none;\">\n",
              "        \n",
              "  <svg xmlns=\"http://www.w3.org/2000/svg\" height=\"24px\"viewBox=\"0 0 24 24\"\n",
              "       width=\"24px\">\n",
              "    <path d=\"M0 0h24v24H0V0z\" fill=\"none\"/>\n",
              "    <path d=\"M18.56 5.44l.94 2.06.94-2.06 2.06-.94-2.06-.94-.94-2.06-.94 2.06-2.06.94zm-11 1L8.5 8.5l.94-2.06 2.06-.94-2.06-.94L8.5 2.5l-.94 2.06-2.06.94zm10 10l.94 2.06.94-2.06 2.06-.94-2.06-.94-.94-2.06-.94 2.06-2.06.94z\"/><path d=\"M17.41 7.96l-1.37-1.37c-.4-.4-.92-.59-1.43-.59-.52 0-1.04.2-1.43.59L10.3 9.45l-7.72 7.72c-.78.78-.78 2.05 0 2.83L4 21.41c.39.39.9.59 1.41.59.51 0 1.02-.2 1.41-.59l7.78-7.78 2.81-2.81c.8-.78.8-2.07 0-2.86zM5.41 20L4 18.59l7.72-7.72 1.47 1.35L5.41 20z\"/>\n",
              "  </svg>\n",
              "      </button>\n",
              "      \n",
              "  <style>\n",
              "    .colab-df-container {\n",
              "      display:flex;\n",
              "      flex-wrap:wrap;\n",
              "      gap: 12px;\n",
              "    }\n",
              "\n",
              "    .colab-df-convert {\n",
              "      background-color: #E8F0FE;\n",
              "      border: none;\n",
              "      border-radius: 50%;\n",
              "      cursor: pointer;\n",
              "      display: none;\n",
              "      fill: #1967D2;\n",
              "      height: 32px;\n",
              "      padding: 0 0 0 0;\n",
              "      width: 32px;\n",
              "    }\n",
              "\n",
              "    .colab-df-convert:hover {\n",
              "      background-color: #E2EBFA;\n",
              "      box-shadow: 0px 1px 2px rgba(60, 64, 67, 0.3), 0px 1px 3px 1px rgba(60, 64, 67, 0.15);\n",
              "      fill: #174EA6;\n",
              "    }\n",
              "\n",
              "    [theme=dark] .colab-df-convert {\n",
              "      background-color: #3B4455;\n",
              "      fill: #D2E3FC;\n",
              "    }\n",
              "\n",
              "    [theme=dark] .colab-df-convert:hover {\n",
              "      background-color: #434B5C;\n",
              "      box-shadow: 0px 1px 3px 1px rgba(0, 0, 0, 0.15);\n",
              "      filter: drop-shadow(0px 1px 2px rgba(0, 0, 0, 0.3));\n",
              "      fill: #FFFFFF;\n",
              "    }\n",
              "  </style>\n",
              "\n",
              "      <script>\n",
              "        const buttonEl =\n",
              "          document.querySelector('#df-a23457fa-d4ff-496b-a64b-f122fe24c9cf button.colab-df-convert');\n",
              "        buttonEl.style.display =\n",
              "          google.colab.kernel.accessAllowed ? 'block' : 'none';\n",
              "\n",
              "        async function convertToInteractive(key) {\n",
              "          const element = document.querySelector('#df-a23457fa-d4ff-496b-a64b-f122fe24c9cf');\n",
              "          const dataTable =\n",
              "            await google.colab.kernel.invokeFunction('convertToInteractive',\n",
              "                                                     [key], {});\n",
              "          if (!dataTable) return;\n",
              "\n",
              "          const docLinkHtml = 'Like what you see? Visit the ' +\n",
              "            '<a target=\"_blank\" href=https://colab.research.google.com/notebooks/data_table.ipynb>data table notebook</a>'\n",
              "            + ' to learn more about interactive tables.';\n",
              "          element.innerHTML = '';\n",
              "          dataTable['output_type'] = 'display_data';\n",
              "          await google.colab.output.renderOutput(dataTable, element);\n",
              "          const docLink = document.createElement('div');\n",
              "          docLink.innerHTML = docLinkHtml;\n",
              "          element.appendChild(docLink);\n",
              "        }\n",
              "      </script>\n",
              "    </div>\n",
              "  </div>\n",
              "  "
            ]
          },
          "metadata": {},
          "execution_count": 21
        }
      ]
    },
    {
      "cell_type": "code",
      "source": [
        "## CONCATENANDO INFOS COM A BASE DE DADOS\n",
        "df_metadados_limpos_2 = pd.concat([df_metadados_limpos,infos_veiculo],axis=1)\n",
        "df_metadados_limpos_2.head()"
      ],
      "metadata": {
        "id": "A8o95WGQcrdv",
        "colab": {
          "base_uri": "https://localhost:8080/",
          "height": 565
        },
        "outputId": "3ae83cf5-7b24-451a-c5bb-dbdf4f2e5f1e"
      },
      "execution_count": 22,
      "outputs": [
        {
          "output_type": "execute_result",
          "data": {
            "text/plain": [
              "           ID                         TITULO  \\\n",
              "0   941490102                nissan versa sv   \n",
              "1  1028087752  vende-se fiat uno motor fire    \n",
              "2  1028087412               fiesta titanium    \n",
              "3  1028074386      chevrolet s10 ltz diesel    \n",
              "4  1028074010            vende-se fiat stilo   \n",
              "\n",
              "                                               INFOS       VALOR  \\\n",
              "0         46.000 km  |  câmbio: manual  |  flex  |     r$ 56.000   \n",
              "1        158 km  |  câmbio: manual  |  gasolina  |     r$ 12.500   \n",
              "2  86.790 km  |  câmbio: automático  |  gasolina ...   r$ 38.000   \n",
              "3   89.000 km  |  câmbio: automático  |  diesel  |    r$ 131.990   \n",
              "4        170.000 km  |  câmbio: manual  |  flex  |     r$ 16.000   \n",
              "\n",
              "                                     LOCAL DATA_ANUNCIO  \\\n",
              "0              rio branco, bosque - ddd 68  hoje, 15:19   \n",
              "1                  sena madureira - ddd 68  hoje, 15:18   \n",
              "2       rio branco, morada do sol - ddd 68  hoje, 15:17   \n",
              "3                      rio branco - ddd 68  hoje, 14:56   \n",
              "4  rio branco, portal da amazônia - ddd 68  hoje, 14:55   \n",
              "\n",
              "                                                LINK DATA_COLETA_METADADOS  \\\n",
              "0  https://ac.olx.com.br/acre/autos-e-pecas/carro...            2022-05-03   \n",
              "1  https://ac.olx.com.br/acre/autos-e-pecas/carro...            2022-05-03   \n",
              "2  https://ac.olx.com.br/acre/autos-e-pecas/carro...            2022-05-03   \n",
              "3  https://ac.olx.com.br/acre/autos-e-pecas/carro...            2022-05-03   \n",
              "4  https://ac.olx.com.br/acre/autos-e-pecas/carro...            2022-05-03   \n",
              "\n",
              "    UF     Ano      KM      CAMBIO COMBUSTIVEL  \n",
              "0  NaN  2017.0   46000      manual        flex  \n",
              "1  NaN  2003.0     158      manual    gasolina  \n",
              "2  NaN  2013.0   86790  automático    gasolina  \n",
              "3  NaN  2013.0   89000  automático      diesel  \n",
              "4  NaN  2007.0  170000      manual        flex  "
            ],
            "text/html": [
              "\n",
              "  <div id=\"df-6e078421-26ff-41ce-adf3-ebdad4062aa0\">\n",
              "    <div class=\"colab-df-container\">\n",
              "      <div>\n",
              "<style scoped>\n",
              "    .dataframe tbody tr th:only-of-type {\n",
              "        vertical-align: middle;\n",
              "    }\n",
              "\n",
              "    .dataframe tbody tr th {\n",
              "        vertical-align: top;\n",
              "    }\n",
              "\n",
              "    .dataframe thead th {\n",
              "        text-align: right;\n",
              "    }\n",
              "</style>\n",
              "<table border=\"1\" class=\"dataframe\">\n",
              "  <thead>\n",
              "    <tr style=\"text-align: right;\">\n",
              "      <th></th>\n",
              "      <th>ID</th>\n",
              "      <th>TITULO</th>\n",
              "      <th>INFOS</th>\n",
              "      <th>VALOR</th>\n",
              "      <th>LOCAL</th>\n",
              "      <th>DATA_ANUNCIO</th>\n",
              "      <th>LINK</th>\n",
              "      <th>DATA_COLETA_METADADOS</th>\n",
              "      <th>UF</th>\n",
              "      <th>Ano</th>\n",
              "      <th>KM</th>\n",
              "      <th>CAMBIO</th>\n",
              "      <th>COMBUSTIVEL</th>\n",
              "    </tr>\n",
              "  </thead>\n",
              "  <tbody>\n",
              "    <tr>\n",
              "      <th>0</th>\n",
              "      <td>941490102</td>\n",
              "      <td>nissan versa sv</td>\n",
              "      <td>46.000 km  |  câmbio: manual  |  flex  |</td>\n",
              "      <td>r$ 56.000</td>\n",
              "      <td>rio branco, bosque - ddd 68</td>\n",
              "      <td>hoje, 15:19</td>\n",
              "      <td>https://ac.olx.com.br/acre/autos-e-pecas/carro...</td>\n",
              "      <td>2022-05-03</td>\n",
              "      <td>NaN</td>\n",
              "      <td>2017.0</td>\n",
              "      <td>46000</td>\n",
              "      <td>manual</td>\n",
              "      <td>flex</td>\n",
              "    </tr>\n",
              "    <tr>\n",
              "      <th>1</th>\n",
              "      <td>1028087752</td>\n",
              "      <td>vende-se fiat uno motor fire</td>\n",
              "      <td>158 km  |  câmbio: manual  |  gasolina  |</td>\n",
              "      <td>r$ 12.500</td>\n",
              "      <td>sena madureira - ddd 68</td>\n",
              "      <td>hoje, 15:18</td>\n",
              "      <td>https://ac.olx.com.br/acre/autos-e-pecas/carro...</td>\n",
              "      <td>2022-05-03</td>\n",
              "      <td>NaN</td>\n",
              "      <td>2003.0</td>\n",
              "      <td>158</td>\n",
              "      <td>manual</td>\n",
              "      <td>gasolina</td>\n",
              "    </tr>\n",
              "    <tr>\n",
              "      <th>2</th>\n",
              "      <td>1028087412</td>\n",
              "      <td>fiesta titanium</td>\n",
              "      <td>86.790 km  |  câmbio: automático  |  gasolina ...</td>\n",
              "      <td>r$ 38.000</td>\n",
              "      <td>rio branco, morada do sol - ddd 68</td>\n",
              "      <td>hoje, 15:17</td>\n",
              "      <td>https://ac.olx.com.br/acre/autos-e-pecas/carro...</td>\n",
              "      <td>2022-05-03</td>\n",
              "      <td>NaN</td>\n",
              "      <td>2013.0</td>\n",
              "      <td>86790</td>\n",
              "      <td>automático</td>\n",
              "      <td>gasolina</td>\n",
              "    </tr>\n",
              "    <tr>\n",
              "      <th>3</th>\n",
              "      <td>1028074386</td>\n",
              "      <td>chevrolet s10 ltz diesel</td>\n",
              "      <td>89.000 km  |  câmbio: automático  |  diesel  |</td>\n",
              "      <td>r$ 131.990</td>\n",
              "      <td>rio branco - ddd 68</td>\n",
              "      <td>hoje, 14:56</td>\n",
              "      <td>https://ac.olx.com.br/acre/autos-e-pecas/carro...</td>\n",
              "      <td>2022-05-03</td>\n",
              "      <td>NaN</td>\n",
              "      <td>2013.0</td>\n",
              "      <td>89000</td>\n",
              "      <td>automático</td>\n",
              "      <td>diesel</td>\n",
              "    </tr>\n",
              "    <tr>\n",
              "      <th>4</th>\n",
              "      <td>1028074010</td>\n",
              "      <td>vende-se fiat stilo</td>\n",
              "      <td>170.000 km  |  câmbio: manual  |  flex  |</td>\n",
              "      <td>r$ 16.000</td>\n",
              "      <td>rio branco, portal da amazônia - ddd 68</td>\n",
              "      <td>hoje, 14:55</td>\n",
              "      <td>https://ac.olx.com.br/acre/autos-e-pecas/carro...</td>\n",
              "      <td>2022-05-03</td>\n",
              "      <td>NaN</td>\n",
              "      <td>2007.0</td>\n",
              "      <td>170000</td>\n",
              "      <td>manual</td>\n",
              "      <td>flex</td>\n",
              "    </tr>\n",
              "  </tbody>\n",
              "</table>\n",
              "</div>\n",
              "      <button class=\"colab-df-convert\" onclick=\"convertToInteractive('df-6e078421-26ff-41ce-adf3-ebdad4062aa0')\"\n",
              "              title=\"Convert this dataframe to an interactive table.\"\n",
              "              style=\"display:none;\">\n",
              "        \n",
              "  <svg xmlns=\"http://www.w3.org/2000/svg\" height=\"24px\"viewBox=\"0 0 24 24\"\n",
              "       width=\"24px\">\n",
              "    <path d=\"M0 0h24v24H0V0z\" fill=\"none\"/>\n",
              "    <path d=\"M18.56 5.44l.94 2.06.94-2.06 2.06-.94-2.06-.94-.94-2.06-.94 2.06-2.06.94zm-11 1L8.5 8.5l.94-2.06 2.06-.94-2.06-.94L8.5 2.5l-.94 2.06-2.06.94zm10 10l.94 2.06.94-2.06 2.06-.94-2.06-.94-.94-2.06-.94 2.06-2.06.94z\"/><path d=\"M17.41 7.96l-1.37-1.37c-.4-.4-.92-.59-1.43-.59-.52 0-1.04.2-1.43.59L10.3 9.45l-7.72 7.72c-.78.78-.78 2.05 0 2.83L4 21.41c.39.39.9.59 1.41.59.51 0 1.02-.2 1.41-.59l7.78-7.78 2.81-2.81c.8-.78.8-2.07 0-2.86zM5.41 20L4 18.59l7.72-7.72 1.47 1.35L5.41 20z\"/>\n",
              "  </svg>\n",
              "      </button>\n",
              "      \n",
              "  <style>\n",
              "    .colab-df-container {\n",
              "      display:flex;\n",
              "      flex-wrap:wrap;\n",
              "      gap: 12px;\n",
              "    }\n",
              "\n",
              "    .colab-df-convert {\n",
              "      background-color: #E8F0FE;\n",
              "      border: none;\n",
              "      border-radius: 50%;\n",
              "      cursor: pointer;\n",
              "      display: none;\n",
              "      fill: #1967D2;\n",
              "      height: 32px;\n",
              "      padding: 0 0 0 0;\n",
              "      width: 32px;\n",
              "    }\n",
              "\n",
              "    .colab-df-convert:hover {\n",
              "      background-color: #E2EBFA;\n",
              "      box-shadow: 0px 1px 2px rgba(60, 64, 67, 0.3), 0px 1px 3px 1px rgba(60, 64, 67, 0.15);\n",
              "      fill: #174EA6;\n",
              "    }\n",
              "\n",
              "    [theme=dark] .colab-df-convert {\n",
              "      background-color: #3B4455;\n",
              "      fill: #D2E3FC;\n",
              "    }\n",
              "\n",
              "    [theme=dark] .colab-df-convert:hover {\n",
              "      background-color: #434B5C;\n",
              "      box-shadow: 0px 1px 3px 1px rgba(0, 0, 0, 0.15);\n",
              "      filter: drop-shadow(0px 1px 2px rgba(0, 0, 0, 0.3));\n",
              "      fill: #FFFFFF;\n",
              "    }\n",
              "  </style>\n",
              "\n",
              "      <script>\n",
              "        const buttonEl =\n",
              "          document.querySelector('#df-6e078421-26ff-41ce-adf3-ebdad4062aa0 button.colab-df-convert');\n",
              "        buttonEl.style.display =\n",
              "          google.colab.kernel.accessAllowed ? 'block' : 'none';\n",
              "\n",
              "        async function convertToInteractive(key) {\n",
              "          const element = document.querySelector('#df-6e078421-26ff-41ce-adf3-ebdad4062aa0');\n",
              "          const dataTable =\n",
              "            await google.colab.kernel.invokeFunction('convertToInteractive',\n",
              "                                                     [key], {});\n",
              "          if (!dataTable) return;\n",
              "\n",
              "          const docLinkHtml = 'Like what you see? Visit the ' +\n",
              "            '<a target=\"_blank\" href=https://colab.research.google.com/notebooks/data_table.ipynb>data table notebook</a>'\n",
              "            + ' to learn more about interactive tables.';\n",
              "          element.innerHTML = '';\n",
              "          dataTable['output_type'] = 'display_data';\n",
              "          await google.colab.output.renderOutput(dataTable, element);\n",
              "          const docLink = document.createElement('div');\n",
              "          docLink.innerHTML = docLinkHtml;\n",
              "          element.appendChild(docLink);\n",
              "        }\n",
              "      </script>\n",
              "    </div>\n",
              "  </div>\n",
              "  "
            ]
          },
          "metadata": {},
          "execution_count": 22
        }
      ]
    },
    {
      "cell_type": "code",
      "source": [
        "## SALVANDO DADOS\n",
        "df_metadados_limpos_2.to_csv(\"df_metadados_limpos_2.csv\",index=False)"
      ],
      "metadata": {
        "id": "-e3PV2ODBbCT"
      },
      "execution_count": 23,
      "outputs": []
    },
    {
      "cell_type": "markdown",
      "source": [
        "### **TRATANDO VALORES EM VALOR**\n"
      ],
      "metadata": {
        "id": "dPxzh6RHooQ3"
      }
    },
    {
      "cell_type": "code",
      "source": [
        "## RETIRANDO CARACTERES R$, ponto(.) e espaço em branco EM VALOR DOS ANÚNCIOS\n",
        "df_metadados_limpos_2.loc[:,'VALOR_LIMPO'] = df_metadados_limpos_2.VALOR.str.replace(\"r\\$|\\.|\\s+\",\"\",regex=True)\n",
        "df_metadados_limpos_2.head()"
      ],
      "metadata": {
        "id": "BlfNJq1KE1SC",
        "colab": {
          "base_uri": "https://localhost:8080/",
          "height": 565
        },
        "outputId": "40bb8617-8af4-4380-c97e-1c63c0139b11"
      },
      "execution_count": 24,
      "outputs": [
        {
          "output_type": "execute_result",
          "data": {
            "text/plain": [
              "           ID                         TITULO  \\\n",
              "0   941490102                nissan versa sv   \n",
              "1  1028087752  vende-se fiat uno motor fire    \n",
              "2  1028087412               fiesta titanium    \n",
              "3  1028074386      chevrolet s10 ltz diesel    \n",
              "4  1028074010            vende-se fiat stilo   \n",
              "\n",
              "                                               INFOS       VALOR  \\\n",
              "0         46.000 km  |  câmbio: manual  |  flex  |     r$ 56.000   \n",
              "1        158 km  |  câmbio: manual  |  gasolina  |     r$ 12.500   \n",
              "2  86.790 km  |  câmbio: automático  |  gasolina ...   r$ 38.000   \n",
              "3   89.000 km  |  câmbio: automático  |  diesel  |    r$ 131.990   \n",
              "4        170.000 km  |  câmbio: manual  |  flex  |     r$ 16.000   \n",
              "\n",
              "                                     LOCAL DATA_ANUNCIO  \\\n",
              "0              rio branco, bosque - ddd 68  hoje, 15:19   \n",
              "1                  sena madureira - ddd 68  hoje, 15:18   \n",
              "2       rio branco, morada do sol - ddd 68  hoje, 15:17   \n",
              "3                      rio branco - ddd 68  hoje, 14:56   \n",
              "4  rio branco, portal da amazônia - ddd 68  hoje, 14:55   \n",
              "\n",
              "                                                LINK DATA_COLETA_METADADOS  \\\n",
              "0  https://ac.olx.com.br/acre/autos-e-pecas/carro...            2022-05-03   \n",
              "1  https://ac.olx.com.br/acre/autos-e-pecas/carro...            2022-05-03   \n",
              "2  https://ac.olx.com.br/acre/autos-e-pecas/carro...            2022-05-03   \n",
              "3  https://ac.olx.com.br/acre/autos-e-pecas/carro...            2022-05-03   \n",
              "4  https://ac.olx.com.br/acre/autos-e-pecas/carro...            2022-05-03   \n",
              "\n",
              "    UF     Ano      KM      CAMBIO COMBUSTIVEL VALOR_LIMPO  \n",
              "0  NaN  2017.0   46000      manual        flex       56000  \n",
              "1  NaN  2003.0     158      manual    gasolina       12500  \n",
              "2  NaN  2013.0   86790  automático    gasolina       38000  \n",
              "3  NaN  2013.0   89000  automático      diesel      131990  \n",
              "4  NaN  2007.0  170000      manual        flex       16000  "
            ],
            "text/html": [
              "\n",
              "  <div id=\"df-e457aacc-5cfa-4b15-8df1-df7cc2da978e\">\n",
              "    <div class=\"colab-df-container\">\n",
              "      <div>\n",
              "<style scoped>\n",
              "    .dataframe tbody tr th:only-of-type {\n",
              "        vertical-align: middle;\n",
              "    }\n",
              "\n",
              "    .dataframe tbody tr th {\n",
              "        vertical-align: top;\n",
              "    }\n",
              "\n",
              "    .dataframe thead th {\n",
              "        text-align: right;\n",
              "    }\n",
              "</style>\n",
              "<table border=\"1\" class=\"dataframe\">\n",
              "  <thead>\n",
              "    <tr style=\"text-align: right;\">\n",
              "      <th></th>\n",
              "      <th>ID</th>\n",
              "      <th>TITULO</th>\n",
              "      <th>INFOS</th>\n",
              "      <th>VALOR</th>\n",
              "      <th>LOCAL</th>\n",
              "      <th>DATA_ANUNCIO</th>\n",
              "      <th>LINK</th>\n",
              "      <th>DATA_COLETA_METADADOS</th>\n",
              "      <th>UF</th>\n",
              "      <th>Ano</th>\n",
              "      <th>KM</th>\n",
              "      <th>CAMBIO</th>\n",
              "      <th>COMBUSTIVEL</th>\n",
              "      <th>VALOR_LIMPO</th>\n",
              "    </tr>\n",
              "  </thead>\n",
              "  <tbody>\n",
              "    <tr>\n",
              "      <th>0</th>\n",
              "      <td>941490102</td>\n",
              "      <td>nissan versa sv</td>\n",
              "      <td>46.000 km  |  câmbio: manual  |  flex  |</td>\n",
              "      <td>r$ 56.000</td>\n",
              "      <td>rio branco, bosque - ddd 68</td>\n",
              "      <td>hoje, 15:19</td>\n",
              "      <td>https://ac.olx.com.br/acre/autos-e-pecas/carro...</td>\n",
              "      <td>2022-05-03</td>\n",
              "      <td>NaN</td>\n",
              "      <td>2017.0</td>\n",
              "      <td>46000</td>\n",
              "      <td>manual</td>\n",
              "      <td>flex</td>\n",
              "      <td>56000</td>\n",
              "    </tr>\n",
              "    <tr>\n",
              "      <th>1</th>\n",
              "      <td>1028087752</td>\n",
              "      <td>vende-se fiat uno motor fire</td>\n",
              "      <td>158 km  |  câmbio: manual  |  gasolina  |</td>\n",
              "      <td>r$ 12.500</td>\n",
              "      <td>sena madureira - ddd 68</td>\n",
              "      <td>hoje, 15:18</td>\n",
              "      <td>https://ac.olx.com.br/acre/autos-e-pecas/carro...</td>\n",
              "      <td>2022-05-03</td>\n",
              "      <td>NaN</td>\n",
              "      <td>2003.0</td>\n",
              "      <td>158</td>\n",
              "      <td>manual</td>\n",
              "      <td>gasolina</td>\n",
              "      <td>12500</td>\n",
              "    </tr>\n",
              "    <tr>\n",
              "      <th>2</th>\n",
              "      <td>1028087412</td>\n",
              "      <td>fiesta titanium</td>\n",
              "      <td>86.790 km  |  câmbio: automático  |  gasolina ...</td>\n",
              "      <td>r$ 38.000</td>\n",
              "      <td>rio branco, morada do sol - ddd 68</td>\n",
              "      <td>hoje, 15:17</td>\n",
              "      <td>https://ac.olx.com.br/acre/autos-e-pecas/carro...</td>\n",
              "      <td>2022-05-03</td>\n",
              "      <td>NaN</td>\n",
              "      <td>2013.0</td>\n",
              "      <td>86790</td>\n",
              "      <td>automático</td>\n",
              "      <td>gasolina</td>\n",
              "      <td>38000</td>\n",
              "    </tr>\n",
              "    <tr>\n",
              "      <th>3</th>\n",
              "      <td>1028074386</td>\n",
              "      <td>chevrolet s10 ltz diesel</td>\n",
              "      <td>89.000 km  |  câmbio: automático  |  diesel  |</td>\n",
              "      <td>r$ 131.990</td>\n",
              "      <td>rio branco - ddd 68</td>\n",
              "      <td>hoje, 14:56</td>\n",
              "      <td>https://ac.olx.com.br/acre/autos-e-pecas/carro...</td>\n",
              "      <td>2022-05-03</td>\n",
              "      <td>NaN</td>\n",
              "      <td>2013.0</td>\n",
              "      <td>89000</td>\n",
              "      <td>automático</td>\n",
              "      <td>diesel</td>\n",
              "      <td>131990</td>\n",
              "    </tr>\n",
              "    <tr>\n",
              "      <th>4</th>\n",
              "      <td>1028074010</td>\n",
              "      <td>vende-se fiat stilo</td>\n",
              "      <td>170.000 km  |  câmbio: manual  |  flex  |</td>\n",
              "      <td>r$ 16.000</td>\n",
              "      <td>rio branco, portal da amazônia - ddd 68</td>\n",
              "      <td>hoje, 14:55</td>\n",
              "      <td>https://ac.olx.com.br/acre/autos-e-pecas/carro...</td>\n",
              "      <td>2022-05-03</td>\n",
              "      <td>NaN</td>\n",
              "      <td>2007.0</td>\n",
              "      <td>170000</td>\n",
              "      <td>manual</td>\n",
              "      <td>flex</td>\n",
              "      <td>16000</td>\n",
              "    </tr>\n",
              "  </tbody>\n",
              "</table>\n",
              "</div>\n",
              "      <button class=\"colab-df-convert\" onclick=\"convertToInteractive('df-e457aacc-5cfa-4b15-8df1-df7cc2da978e')\"\n",
              "              title=\"Convert this dataframe to an interactive table.\"\n",
              "              style=\"display:none;\">\n",
              "        \n",
              "  <svg xmlns=\"http://www.w3.org/2000/svg\" height=\"24px\"viewBox=\"0 0 24 24\"\n",
              "       width=\"24px\">\n",
              "    <path d=\"M0 0h24v24H0V0z\" fill=\"none\"/>\n",
              "    <path d=\"M18.56 5.44l.94 2.06.94-2.06 2.06-.94-2.06-.94-.94-2.06-.94 2.06-2.06.94zm-11 1L8.5 8.5l.94-2.06 2.06-.94-2.06-.94L8.5 2.5l-.94 2.06-2.06.94zm10 10l.94 2.06.94-2.06 2.06-.94-2.06-.94-.94-2.06-.94 2.06-2.06.94z\"/><path d=\"M17.41 7.96l-1.37-1.37c-.4-.4-.92-.59-1.43-.59-.52 0-1.04.2-1.43.59L10.3 9.45l-7.72 7.72c-.78.78-.78 2.05 0 2.83L4 21.41c.39.39.9.59 1.41.59.51 0 1.02-.2 1.41-.59l7.78-7.78 2.81-2.81c.8-.78.8-2.07 0-2.86zM5.41 20L4 18.59l7.72-7.72 1.47 1.35L5.41 20z\"/>\n",
              "  </svg>\n",
              "      </button>\n",
              "      \n",
              "  <style>\n",
              "    .colab-df-container {\n",
              "      display:flex;\n",
              "      flex-wrap:wrap;\n",
              "      gap: 12px;\n",
              "    }\n",
              "\n",
              "    .colab-df-convert {\n",
              "      background-color: #E8F0FE;\n",
              "      border: none;\n",
              "      border-radius: 50%;\n",
              "      cursor: pointer;\n",
              "      display: none;\n",
              "      fill: #1967D2;\n",
              "      height: 32px;\n",
              "      padding: 0 0 0 0;\n",
              "      width: 32px;\n",
              "    }\n",
              "\n",
              "    .colab-df-convert:hover {\n",
              "      background-color: #E2EBFA;\n",
              "      box-shadow: 0px 1px 2px rgba(60, 64, 67, 0.3), 0px 1px 3px 1px rgba(60, 64, 67, 0.15);\n",
              "      fill: #174EA6;\n",
              "    }\n",
              "\n",
              "    [theme=dark] .colab-df-convert {\n",
              "      background-color: #3B4455;\n",
              "      fill: #D2E3FC;\n",
              "    }\n",
              "\n",
              "    [theme=dark] .colab-df-convert:hover {\n",
              "      background-color: #434B5C;\n",
              "      box-shadow: 0px 1px 3px 1px rgba(0, 0, 0, 0.15);\n",
              "      filter: drop-shadow(0px 1px 2px rgba(0, 0, 0, 0.3));\n",
              "      fill: #FFFFFF;\n",
              "    }\n",
              "  </style>\n",
              "\n",
              "      <script>\n",
              "        const buttonEl =\n",
              "          document.querySelector('#df-e457aacc-5cfa-4b15-8df1-df7cc2da978e button.colab-df-convert');\n",
              "        buttonEl.style.display =\n",
              "          google.colab.kernel.accessAllowed ? 'block' : 'none';\n",
              "\n",
              "        async function convertToInteractive(key) {\n",
              "          const element = document.querySelector('#df-e457aacc-5cfa-4b15-8df1-df7cc2da978e');\n",
              "          const dataTable =\n",
              "            await google.colab.kernel.invokeFunction('convertToInteractive',\n",
              "                                                     [key], {});\n",
              "          if (!dataTable) return;\n",
              "\n",
              "          const docLinkHtml = 'Like what you see? Visit the ' +\n",
              "            '<a target=\"_blank\" href=https://colab.research.google.com/notebooks/data_table.ipynb>data table notebook</a>'\n",
              "            + ' to learn more about interactive tables.';\n",
              "          element.innerHTML = '';\n",
              "          dataTable['output_type'] = 'display_data';\n",
              "          await google.colab.output.renderOutput(dataTable, element);\n",
              "          const docLink = document.createElement('div');\n",
              "          docLink.innerHTML = docLinkHtml;\n",
              "          element.appendChild(docLink);\n",
              "        }\n",
              "      </script>\n",
              "    </div>\n",
              "  </div>\n",
              "  "
            ]
          },
          "metadata": {},
          "execution_count": 24
        }
      ]
    },
    {
      "cell_type": "markdown",
      "source": [
        "### **TRATANDO VALORES NULOS EM UF**\n"
      ],
      "metadata": {
        "id": "AxLVGQNfotTy"
      }
    },
    {
      "cell_type": "code",
      "source": [
        "##VERIFICANDO ATRIBUTO UF\n",
        "(df_metadados_limpos_2.UF.nunique(),\n",
        "df_metadados_limpos_2.UF.unique())"
      ],
      "metadata": {
        "id": "E2ym_A5KHrzN",
        "colab": {
          "base_uri": "https://localhost:8080/"
        },
        "outputId": "763cbe2b-eb0c-40e7-9cc9-77567bde834a"
      },
      "execution_count": 25,
      "outputs": [
        {
          "output_type": "execute_result",
          "data": {
            "text/plain": [
              "(21, array([nan, 'ba', 'ce', 'df', 'es', 'go', 'ma', 'mt', 'ms', 'mg', 'pa',\n",
              "        'pb', 'pr', 'pe', 'pi', 'rs', 'ro', 'rr', 'sc', 'sp', 'se', 'to'],\n",
              "       dtype=object))"
            ]
          },
          "metadata": {},
          "execution_count": 25
        }
      ]
    },
    {
      "cell_type": "code",
      "source": [
        "##VERIFICANDO LINK\n",
        "df_metadados_limpos_2.LINK[:6]"
      ],
      "metadata": {
        "id": "l6_UYy8MHx49",
        "colab": {
          "base_uri": "https://localhost:8080/"
        },
        "outputId": "864bd62b-c793-48a7-8457-0e1a001160e4"
      },
      "execution_count": 26,
      "outputs": [
        {
          "output_type": "execute_result",
          "data": {
            "text/plain": [
              "0    https://ac.olx.com.br/acre/autos-e-pecas/carro...\n",
              "1    https://ac.olx.com.br/acre/autos-e-pecas/carro...\n",
              "2    https://ac.olx.com.br/acre/autos-e-pecas/carro...\n",
              "3    https://ac.olx.com.br/acre/autos-e-pecas/carro...\n",
              "4    https://ac.olx.com.br/acre/autos-e-pecas/carro...\n",
              "5    https://ac.olx.com.br/acre/autos-e-pecas/carro...\n",
              "Name: LINK, dtype: object"
            ]
          },
          "metadata": {},
          "execution_count": 26
        }
      ]
    },
    {
      "cell_type": "code",
      "source": [
        "##PEGANDO UF DA COLUNA LINK\n",
        "df_metadados_limpos_2.LINK[:5].apply(lambda x: x[8:10])"
      ],
      "metadata": {
        "id": "f6DWXYKbH6vw",
        "colab": {
          "base_uri": "https://localhost:8080/"
        },
        "outputId": "e29f3695-8f35-4f4c-9440-0b1ab8400c78"
      },
      "execution_count": 27,
      "outputs": [
        {
          "output_type": "execute_result",
          "data": {
            "text/plain": [
              "0    ac\n",
              "1    ac\n",
              "2    ac\n",
              "3    ac\n",
              "4    ac\n",
              "Name: LINK, dtype: object"
            ]
          },
          "metadata": {},
          "execution_count": 27
        }
      ]
    },
    {
      "cell_type": "code",
      "source": [
        "## INSERINDO VALOR NA COLUNA UF APENAS COM VALOR NONE\n",
        "ids_uf_none = df_metadados_limpos_2.query(\"UF.isnull()\",engine='python')['ID']\n",
        "print(ids_uf_none)"
      ],
      "metadata": {
        "id": "tD31A8YMH61W",
        "colab": {
          "base_uri": "https://localhost:8080/"
        },
        "outputId": "dd505168-aaf4-48d8-884e-f1bd3128ae7a"
      },
      "execution_count": 28,
      "outputs": [
        {
          "output_type": "stream",
          "name": "stdout",
          "text": [
            "0         941490102\n",
            "1        1028087752\n",
            "2        1028087412\n",
            "3        1028074386\n",
            "4        1028074010\n",
            "            ...    \n",
            "11687     983172712\n",
            "11688    1027623458\n",
            "11689    1027622428\n",
            "11690    1027621921\n",
            "11691    1027621009\n",
            "Name: ID, Length: 11692, dtype: int64\n"
          ]
        }
      ]
    },
    {
      "cell_type": "code",
      "source": [
        "## SUBSTITUINDO NONE EM UF \n",
        "df_metadados_limpos_2.loc[df_metadados_limpos_2.ID.isin(ids_uf_none),'UF'] = df_metadados_limpos_2.query(f\"ID in {ids_uf_none.tolist()}\").LINK.apply(lambda x: x[8:10])\n"
      ],
      "metadata": {
        "id": "JT7AEC1SH66n"
      },
      "execution_count": 30,
      "outputs": []
    },
    {
      "cell_type": "code",
      "source": [
        "print(\"==== INDICE DE NULOS NOS ATRIBUTOS ====\")\n",
        "dados = df_metadados_limpos_2.copy()\n",
        "(dados.isnull().sum()/len(dados)*100).sort_values(ascending=False)"
      ],
      "metadata": {
        "id": "AKB1IeX-8jhx",
        "colab": {
          "base_uri": "https://localhost:8080/"
        },
        "outputId": "0943ebe4-a957-4b4d-e4b9-d7407fc7abab"
      },
      "execution_count": 31,
      "outputs": [
        {
          "output_type": "stream",
          "name": "stdout",
          "text": [
            "==== INDICE DE NULOS NOS ATRIBUTOS ====\n"
          ]
        },
        {
          "output_type": "execute_result",
          "data": {
            "text/plain": [
              "Ano                      15.546993\n",
              "COMBUSTIVEL               4.080420\n",
              "CAMBIO                    1.937738\n",
              "ID                        0.000000\n",
              "TITULO                    0.000000\n",
              "INFOS                     0.000000\n",
              "VALOR                     0.000000\n",
              "LOCAL                     0.000000\n",
              "DATA_ANUNCIO              0.000000\n",
              "LINK                      0.000000\n",
              "DATA_COLETA_METADADOS     0.000000\n",
              "UF                        0.000000\n",
              "KM                        0.000000\n",
              "VALOR_LIMPO               0.000000\n",
              "dtype: float64"
            ]
          },
          "metadata": {},
          "execution_count": 31
        }
      ]
    },
    {
      "cell_type": "markdown",
      "source": [
        "### VALIDANDO E AJUSTANDO MUDANÇAS\n",
        "- ETAPA PARA VALIDAR ALGUMAS TRANSFORMAÇÕES FEITAS"
      ],
      "metadata": {
        "id": "zfF2bxCm80y5"
      }
    },
    {
      "cell_type": "code",
      "source": [
        "## VALORES ÚNICOS EM CAMBIO \n",
        "df_metadados_limpos_2.CAMBIO.unique()"
      ],
      "metadata": {
        "id": "C7GThFmM8joz",
        "colab": {
          "base_uri": "https://localhost:8080/"
        },
        "outputId": "0c1ab3ea-8d77-48f5-c560-2d92aec6d20f"
      },
      "execution_count": 32,
      "outputs": [
        {
          "output_type": "execute_result",
          "data": {
            "text/plain": [
              "array(['manual', 'automático', None, 'flex', 'diesel', 'semi-automático',\n",
              "       'gásnatural', 'gasolina', 'híbrido', 'álcool'], dtype=object)"
            ]
          },
          "metadata": {},
          "execution_count": 32
        }
      ]
    },
    {
      "cell_type": "code",
      "source": [
        "## VERIFICANDO COMBINAÇÃO DO CAMBIO ERRADOS COM OS VALORES DE COMBUSTIVEL\n",
        "valores = ['flex', 'diesel', 'gásnatural', 'gasolina', 'híbrido', 'álcool']\n",
        "\n",
        "df_valida_cambio = df_metadados_limpos_2.query(f\"CAMBIO.isin({valores})\",engine='python')[['KM','CAMBIO','COMBUSTIVEL']]\n",
        "print(len(df_valida_cambio))\n",
        "df_valida_cambio"
      ],
      "metadata": {
        "id": "x4yXh_u69Zhg",
        "colab": {
          "base_uri": "https://localhost:8080/",
          "height": 441
        },
        "outputId": "4677fbd7-68ab-4dbd-9df5-02b6d91f72ff"
      },
      "execution_count": 33,
      "outputs": [
        {
          "output_type": "stream",
          "name": "stdout",
          "text": [
            "779\n"
          ]
        },
        {
          "output_type": "execute_result",
          "data": {
            "text/plain": [
              "           KM      CAMBIO COMBUSTIVEL\n",
              "187    120000        flex        None\n",
              "289     74000        flex        None\n",
              "298    100000      diesel        None\n",
              "393     97000        flex        None\n",
              "527    150000  gásnatural        None\n",
              "...       ...         ...         ...\n",
              "96914   82000        flex        None\n",
              "96951     120    gasolina        None\n",
              "97169   92310        flex        None\n",
              "97278       0    gasolina        None\n",
              "97452     333    gasolina        None\n",
              "\n",
              "[779 rows x 3 columns]"
            ],
            "text/html": [
              "\n",
              "  <div id=\"df-a0e8c520-72c5-42c1-afd9-b9caba5e1f63\">\n",
              "    <div class=\"colab-df-container\">\n",
              "      <div>\n",
              "<style scoped>\n",
              "    .dataframe tbody tr th:only-of-type {\n",
              "        vertical-align: middle;\n",
              "    }\n",
              "\n",
              "    .dataframe tbody tr th {\n",
              "        vertical-align: top;\n",
              "    }\n",
              "\n",
              "    .dataframe thead th {\n",
              "        text-align: right;\n",
              "    }\n",
              "</style>\n",
              "<table border=\"1\" class=\"dataframe\">\n",
              "  <thead>\n",
              "    <tr style=\"text-align: right;\">\n",
              "      <th></th>\n",
              "      <th>KM</th>\n",
              "      <th>CAMBIO</th>\n",
              "      <th>COMBUSTIVEL</th>\n",
              "    </tr>\n",
              "  </thead>\n",
              "  <tbody>\n",
              "    <tr>\n",
              "      <th>187</th>\n",
              "      <td>120000</td>\n",
              "      <td>flex</td>\n",
              "      <td>None</td>\n",
              "    </tr>\n",
              "    <tr>\n",
              "      <th>289</th>\n",
              "      <td>74000</td>\n",
              "      <td>flex</td>\n",
              "      <td>None</td>\n",
              "    </tr>\n",
              "    <tr>\n",
              "      <th>298</th>\n",
              "      <td>100000</td>\n",
              "      <td>diesel</td>\n",
              "      <td>None</td>\n",
              "    </tr>\n",
              "    <tr>\n",
              "      <th>393</th>\n",
              "      <td>97000</td>\n",
              "      <td>flex</td>\n",
              "      <td>None</td>\n",
              "    </tr>\n",
              "    <tr>\n",
              "      <th>527</th>\n",
              "      <td>150000</td>\n",
              "      <td>gásnatural</td>\n",
              "      <td>None</td>\n",
              "    </tr>\n",
              "    <tr>\n",
              "      <th>...</th>\n",
              "      <td>...</td>\n",
              "      <td>...</td>\n",
              "      <td>...</td>\n",
              "    </tr>\n",
              "    <tr>\n",
              "      <th>96914</th>\n",
              "      <td>82000</td>\n",
              "      <td>flex</td>\n",
              "      <td>None</td>\n",
              "    </tr>\n",
              "    <tr>\n",
              "      <th>96951</th>\n",
              "      <td>120</td>\n",
              "      <td>gasolina</td>\n",
              "      <td>None</td>\n",
              "    </tr>\n",
              "    <tr>\n",
              "      <th>97169</th>\n",
              "      <td>92310</td>\n",
              "      <td>flex</td>\n",
              "      <td>None</td>\n",
              "    </tr>\n",
              "    <tr>\n",
              "      <th>97278</th>\n",
              "      <td>0</td>\n",
              "      <td>gasolina</td>\n",
              "      <td>None</td>\n",
              "    </tr>\n",
              "    <tr>\n",
              "      <th>97452</th>\n",
              "      <td>333</td>\n",
              "      <td>gasolina</td>\n",
              "      <td>None</td>\n",
              "    </tr>\n",
              "  </tbody>\n",
              "</table>\n",
              "<p>779 rows × 3 columns</p>\n",
              "</div>\n",
              "      <button class=\"colab-df-convert\" onclick=\"convertToInteractive('df-a0e8c520-72c5-42c1-afd9-b9caba5e1f63')\"\n",
              "              title=\"Convert this dataframe to an interactive table.\"\n",
              "              style=\"display:none;\">\n",
              "        \n",
              "  <svg xmlns=\"http://www.w3.org/2000/svg\" height=\"24px\"viewBox=\"0 0 24 24\"\n",
              "       width=\"24px\">\n",
              "    <path d=\"M0 0h24v24H0V0z\" fill=\"none\"/>\n",
              "    <path d=\"M18.56 5.44l.94 2.06.94-2.06 2.06-.94-2.06-.94-.94-2.06-.94 2.06-2.06.94zm-11 1L8.5 8.5l.94-2.06 2.06-.94-2.06-.94L8.5 2.5l-.94 2.06-2.06.94zm10 10l.94 2.06.94-2.06 2.06-.94-2.06-.94-.94-2.06-.94 2.06-2.06.94z\"/><path d=\"M17.41 7.96l-1.37-1.37c-.4-.4-.92-.59-1.43-.59-.52 0-1.04.2-1.43.59L10.3 9.45l-7.72 7.72c-.78.78-.78 2.05 0 2.83L4 21.41c.39.39.9.59 1.41.59.51 0 1.02-.2 1.41-.59l7.78-7.78 2.81-2.81c.8-.78.8-2.07 0-2.86zM5.41 20L4 18.59l7.72-7.72 1.47 1.35L5.41 20z\"/>\n",
              "  </svg>\n",
              "      </button>\n",
              "      \n",
              "  <style>\n",
              "    .colab-df-container {\n",
              "      display:flex;\n",
              "      flex-wrap:wrap;\n",
              "      gap: 12px;\n",
              "    }\n",
              "\n",
              "    .colab-df-convert {\n",
              "      background-color: #E8F0FE;\n",
              "      border: none;\n",
              "      border-radius: 50%;\n",
              "      cursor: pointer;\n",
              "      display: none;\n",
              "      fill: #1967D2;\n",
              "      height: 32px;\n",
              "      padding: 0 0 0 0;\n",
              "      width: 32px;\n",
              "    }\n",
              "\n",
              "    .colab-df-convert:hover {\n",
              "      background-color: #E2EBFA;\n",
              "      box-shadow: 0px 1px 2px rgba(60, 64, 67, 0.3), 0px 1px 3px 1px rgba(60, 64, 67, 0.15);\n",
              "      fill: #174EA6;\n",
              "    }\n",
              "\n",
              "    [theme=dark] .colab-df-convert {\n",
              "      background-color: #3B4455;\n",
              "      fill: #D2E3FC;\n",
              "    }\n",
              "\n",
              "    [theme=dark] .colab-df-convert:hover {\n",
              "      background-color: #434B5C;\n",
              "      box-shadow: 0px 1px 3px 1px rgba(0, 0, 0, 0.15);\n",
              "      filter: drop-shadow(0px 1px 2px rgba(0, 0, 0, 0.3));\n",
              "      fill: #FFFFFF;\n",
              "    }\n",
              "  </style>\n",
              "\n",
              "      <script>\n",
              "        const buttonEl =\n",
              "          document.querySelector('#df-a0e8c520-72c5-42c1-afd9-b9caba5e1f63 button.colab-df-convert');\n",
              "        buttonEl.style.display =\n",
              "          google.colab.kernel.accessAllowed ? 'block' : 'none';\n",
              "\n",
              "        async function convertToInteractive(key) {\n",
              "          const element = document.querySelector('#df-a0e8c520-72c5-42c1-afd9-b9caba5e1f63');\n",
              "          const dataTable =\n",
              "            await google.colab.kernel.invokeFunction('convertToInteractive',\n",
              "                                                     [key], {});\n",
              "          if (!dataTable) return;\n",
              "\n",
              "          const docLinkHtml = 'Like what you see? Visit the ' +\n",
              "            '<a target=\"_blank\" href=https://colab.research.google.com/notebooks/data_table.ipynb>data table notebook</a>'\n",
              "            + ' to learn more about interactive tables.';\n",
              "          element.innerHTML = '';\n",
              "          dataTable['output_type'] = 'display_data';\n",
              "          await google.colab.output.renderOutput(dataTable, element);\n",
              "          const docLink = document.createElement('div');\n",
              "          docLink.innerHTML = docLinkHtml;\n",
              "          element.appendChild(docLink);\n",
              "        }\n",
              "      </script>\n",
              "    </div>\n",
              "  </div>\n",
              "  "
            ]
          },
          "metadata": {},
          "execution_count": 33
        }
      ]
    },
    {
      "cell_type": "code",
      "source": [
        "## VALORES ÚNICOS EM COMBUSTIVEL \n",
        "df_metadados_limpos_2.COMBUSTIVEL.unique()"
      ],
      "metadata": {
        "id": "ZpH5PP_H97_U",
        "colab": {
          "base_uri": "https://localhost:8080/"
        },
        "outputId": "b294b505-7ed6-4010-ebda-8305ff721039"
      },
      "execution_count": 34,
      "outputs": [
        {
          "output_type": "execute_result",
          "data": {
            "text/plain": [
              "array(['flex', 'gasolina', 'diesel', None, 'álcool', 'gásnatural',\n",
              "       'híbrido', 'elétrico'], dtype=object)"
            ]
          },
          "metadata": {},
          "execution_count": 34
        }
      ]
    },
    {
      "cell_type": "markdown",
      "source": [
        "**CONCLUSÃO**\n",
        "- Com base no que foi análisado acima, podemos pegar todos esses valores na coluna **CAMBIO** verificados e inserir na coluna **COMBUSTIVEL**, que é o valor correto"
      ],
      "metadata": {
        "id": "JUQ7Jozp-UM4"
      }
    },
    {
      "cell_type": "code",
      "source": [
        "## CRIAR UMA CÓPIA DO DATAFRAME\n",
        "df_metadados_limpos_3 = df_metadados_limpos_2.copy()"
      ],
      "metadata": {
        "id": "BcrjurxJBul0"
      },
      "execution_count": 35,
      "outputs": []
    },
    {
      "cell_type": "code",
      "source": [
        "## PEGANDO OS IDS DAS LINHAS INCORRETAS\n",
        "ids_errados = df_metadados_limpos_3.query(f\"CAMBIO.isin({valores})\",engine='python')['ID']\n",
        "ids_errados"
      ],
      "metadata": {
        "id": "9dWEmrI1-ky9",
        "colab": {
          "base_uri": "https://localhost:8080/"
        },
        "outputId": "4d2eaa5b-3ff2-4513-bb91-c9fe4ba29208"
      },
      "execution_count": 36,
      "outputs": [
        {
          "output_type": "execute_result",
          "data": {
            "text/plain": [
              "187      1027158142\n",
              "289      1024806980\n",
              "298      1026580335\n",
              "393      1025988596\n",
              "527      1025246381\n",
              "            ...    \n",
              "96914    1009665742\n",
              "96951    1009314774\n",
              "97169    1006770941\n",
              "97278    1005552518\n",
              "97452    1003256808\n",
              "Name: ID, Length: 779, dtype: int64"
            ]
          },
          "metadata": {},
          "execution_count": 36
        }
      ]
    },
    {
      "cell_type": "code",
      "source": [
        "## INSERINDO VALORES NA COLUNA COMBUSTIVEL\n",
        "df_metadados_limpos_3.loc[df_metadados_limpos_3.ID.isin(ids_errados),'COMBUSTIVEL'] = df_metadados_limpos_3.query(f\"ID in {ids_errados.tolist()}\")['CAMBIO']"
      ],
      "metadata": {
        "id": "8KD_p7Q8_D8K",
        "colab": {
          "base_uri": "https://localhost:8080/",
          "height": 424
        },
        "outputId": "82eb8ddf-7179-4570-e3f7-e850563e3681"
      },
      "execution_count": 37,
      "outputs": [
        {
          "output_type": "execute_result",
          "data": {
            "text/plain": [
              "           CAMBIO COMBUSTIVEL\n",
              "187          flex        flex\n",
              "289          flex        flex\n",
              "298        diesel      diesel\n",
              "393          flex        flex\n",
              "527    gásnatural  gásnatural\n",
              "...           ...         ...\n",
              "96914        flex        flex\n",
              "96951    gasolina    gasolina\n",
              "97169        flex        flex\n",
              "97278    gasolina    gasolina\n",
              "97452    gasolina    gasolina\n",
              "\n",
              "[779 rows x 2 columns]"
            ],
            "text/html": [
              "\n",
              "  <div id=\"df-daf1fd61-d525-4f16-afe1-7e6c99a649d4\">\n",
              "    <div class=\"colab-df-container\">\n",
              "      <div>\n",
              "<style scoped>\n",
              "    .dataframe tbody tr th:only-of-type {\n",
              "        vertical-align: middle;\n",
              "    }\n",
              "\n",
              "    .dataframe tbody tr th {\n",
              "        vertical-align: top;\n",
              "    }\n",
              "\n",
              "    .dataframe thead th {\n",
              "        text-align: right;\n",
              "    }\n",
              "</style>\n",
              "<table border=\"1\" class=\"dataframe\">\n",
              "  <thead>\n",
              "    <tr style=\"text-align: right;\">\n",
              "      <th></th>\n",
              "      <th>CAMBIO</th>\n",
              "      <th>COMBUSTIVEL</th>\n",
              "    </tr>\n",
              "  </thead>\n",
              "  <tbody>\n",
              "    <tr>\n",
              "      <th>187</th>\n",
              "      <td>flex</td>\n",
              "      <td>flex</td>\n",
              "    </tr>\n",
              "    <tr>\n",
              "      <th>289</th>\n",
              "      <td>flex</td>\n",
              "      <td>flex</td>\n",
              "    </tr>\n",
              "    <tr>\n",
              "      <th>298</th>\n",
              "      <td>diesel</td>\n",
              "      <td>diesel</td>\n",
              "    </tr>\n",
              "    <tr>\n",
              "      <th>393</th>\n",
              "      <td>flex</td>\n",
              "      <td>flex</td>\n",
              "    </tr>\n",
              "    <tr>\n",
              "      <th>527</th>\n",
              "      <td>gásnatural</td>\n",
              "      <td>gásnatural</td>\n",
              "    </tr>\n",
              "    <tr>\n",
              "      <th>...</th>\n",
              "      <td>...</td>\n",
              "      <td>...</td>\n",
              "    </tr>\n",
              "    <tr>\n",
              "      <th>96914</th>\n",
              "      <td>flex</td>\n",
              "      <td>flex</td>\n",
              "    </tr>\n",
              "    <tr>\n",
              "      <th>96951</th>\n",
              "      <td>gasolina</td>\n",
              "      <td>gasolina</td>\n",
              "    </tr>\n",
              "    <tr>\n",
              "      <th>97169</th>\n",
              "      <td>flex</td>\n",
              "      <td>flex</td>\n",
              "    </tr>\n",
              "    <tr>\n",
              "      <th>97278</th>\n",
              "      <td>gasolina</td>\n",
              "      <td>gasolina</td>\n",
              "    </tr>\n",
              "    <tr>\n",
              "      <th>97452</th>\n",
              "      <td>gasolina</td>\n",
              "      <td>gasolina</td>\n",
              "    </tr>\n",
              "  </tbody>\n",
              "</table>\n",
              "<p>779 rows × 2 columns</p>\n",
              "</div>\n",
              "      <button class=\"colab-df-convert\" onclick=\"convertToInteractive('df-daf1fd61-d525-4f16-afe1-7e6c99a649d4')\"\n",
              "              title=\"Convert this dataframe to an interactive table.\"\n",
              "              style=\"display:none;\">\n",
              "        \n",
              "  <svg xmlns=\"http://www.w3.org/2000/svg\" height=\"24px\"viewBox=\"0 0 24 24\"\n",
              "       width=\"24px\">\n",
              "    <path d=\"M0 0h24v24H0V0z\" fill=\"none\"/>\n",
              "    <path d=\"M18.56 5.44l.94 2.06.94-2.06 2.06-.94-2.06-.94-.94-2.06-.94 2.06-2.06.94zm-11 1L8.5 8.5l.94-2.06 2.06-.94-2.06-.94L8.5 2.5l-.94 2.06-2.06.94zm10 10l.94 2.06.94-2.06 2.06-.94-2.06-.94-.94-2.06-.94 2.06-2.06.94z\"/><path d=\"M17.41 7.96l-1.37-1.37c-.4-.4-.92-.59-1.43-.59-.52 0-1.04.2-1.43.59L10.3 9.45l-7.72 7.72c-.78.78-.78 2.05 0 2.83L4 21.41c.39.39.9.59 1.41.59.51 0 1.02-.2 1.41-.59l7.78-7.78 2.81-2.81c.8-.78.8-2.07 0-2.86zM5.41 20L4 18.59l7.72-7.72 1.47 1.35L5.41 20z\"/>\n",
              "  </svg>\n",
              "      </button>\n",
              "      \n",
              "  <style>\n",
              "    .colab-df-container {\n",
              "      display:flex;\n",
              "      flex-wrap:wrap;\n",
              "      gap: 12px;\n",
              "    }\n",
              "\n",
              "    .colab-df-convert {\n",
              "      background-color: #E8F0FE;\n",
              "      border: none;\n",
              "      border-radius: 50%;\n",
              "      cursor: pointer;\n",
              "      display: none;\n",
              "      fill: #1967D2;\n",
              "      height: 32px;\n",
              "      padding: 0 0 0 0;\n",
              "      width: 32px;\n",
              "    }\n",
              "\n",
              "    .colab-df-convert:hover {\n",
              "      background-color: #E2EBFA;\n",
              "      box-shadow: 0px 1px 2px rgba(60, 64, 67, 0.3), 0px 1px 3px 1px rgba(60, 64, 67, 0.15);\n",
              "      fill: #174EA6;\n",
              "    }\n",
              "\n",
              "    [theme=dark] .colab-df-convert {\n",
              "      background-color: #3B4455;\n",
              "      fill: #D2E3FC;\n",
              "    }\n",
              "\n",
              "    [theme=dark] .colab-df-convert:hover {\n",
              "      background-color: #434B5C;\n",
              "      box-shadow: 0px 1px 3px 1px rgba(0, 0, 0, 0.15);\n",
              "      filter: drop-shadow(0px 1px 2px rgba(0, 0, 0, 0.3));\n",
              "      fill: #FFFFFF;\n",
              "    }\n",
              "  </style>\n",
              "\n",
              "      <script>\n",
              "        const buttonEl =\n",
              "          document.querySelector('#df-daf1fd61-d525-4f16-afe1-7e6c99a649d4 button.colab-df-convert');\n",
              "        buttonEl.style.display =\n",
              "          google.colab.kernel.accessAllowed ? 'block' : 'none';\n",
              "\n",
              "        async function convertToInteractive(key) {\n",
              "          const element = document.querySelector('#df-daf1fd61-d525-4f16-afe1-7e6c99a649d4');\n",
              "          const dataTable =\n",
              "            await google.colab.kernel.invokeFunction('convertToInteractive',\n",
              "                                                     [key], {});\n",
              "          if (!dataTable) return;\n",
              "\n",
              "          const docLinkHtml = 'Like what you see? Visit the ' +\n",
              "            '<a target=\"_blank\" href=https://colab.research.google.com/notebooks/data_table.ipynb>data table notebook</a>'\n",
              "            + ' to learn more about interactive tables.';\n",
              "          element.innerHTML = '';\n",
              "          dataTable['output_type'] = 'display_data';\n",
              "          await google.colab.output.renderOutput(dataTable, element);\n",
              "          const docLink = document.createElement('div');\n",
              "          docLink.innerHTML = docLinkHtml;\n",
              "          element.appendChild(docLink);\n",
              "        }\n",
              "      </script>\n",
              "    </div>\n",
              "  </div>\n",
              "  "
            ]
          },
          "metadata": {},
          "execution_count": 37
        }
      ]
    },
    {
      "cell_type": "code",
      "source": [
        "# VERIFICANDO ALTERAÇÕES\n",
        "df_metadados_limpos_3.query(f\"ID in {ids_errados.tolist()}\")[['CAMBIO','COMBUSTIVEL']]"
      ],
      "metadata": {
        "id": "KqdlpRgB_EQd",
        "colab": {
          "base_uri": "https://localhost:8080/",
          "height": 424
        },
        "outputId": "13b06161-d584-404f-f68c-c01450e1bed7"
      },
      "execution_count": 38,
      "outputs": [
        {
          "output_type": "execute_result",
          "data": {
            "text/plain": [
              "           CAMBIO COMBUSTIVEL\n",
              "187          flex        flex\n",
              "289          flex        flex\n",
              "298        diesel      diesel\n",
              "393          flex        flex\n",
              "527    gásnatural  gásnatural\n",
              "...           ...         ...\n",
              "96914        flex        flex\n",
              "96951    gasolina    gasolina\n",
              "97169        flex        flex\n",
              "97278    gasolina    gasolina\n",
              "97452    gasolina    gasolina\n",
              "\n",
              "[779 rows x 2 columns]"
            ],
            "text/html": [
              "\n",
              "  <div id=\"df-5e76bc97-f986-4562-ad51-1558edb95aec\">\n",
              "    <div class=\"colab-df-container\">\n",
              "      <div>\n",
              "<style scoped>\n",
              "    .dataframe tbody tr th:only-of-type {\n",
              "        vertical-align: middle;\n",
              "    }\n",
              "\n",
              "    .dataframe tbody tr th {\n",
              "        vertical-align: top;\n",
              "    }\n",
              "\n",
              "    .dataframe thead th {\n",
              "        text-align: right;\n",
              "    }\n",
              "</style>\n",
              "<table border=\"1\" class=\"dataframe\">\n",
              "  <thead>\n",
              "    <tr style=\"text-align: right;\">\n",
              "      <th></th>\n",
              "      <th>CAMBIO</th>\n",
              "      <th>COMBUSTIVEL</th>\n",
              "    </tr>\n",
              "  </thead>\n",
              "  <tbody>\n",
              "    <tr>\n",
              "      <th>187</th>\n",
              "      <td>flex</td>\n",
              "      <td>flex</td>\n",
              "    </tr>\n",
              "    <tr>\n",
              "      <th>289</th>\n",
              "      <td>flex</td>\n",
              "      <td>flex</td>\n",
              "    </tr>\n",
              "    <tr>\n",
              "      <th>298</th>\n",
              "      <td>diesel</td>\n",
              "      <td>diesel</td>\n",
              "    </tr>\n",
              "    <tr>\n",
              "      <th>393</th>\n",
              "      <td>flex</td>\n",
              "      <td>flex</td>\n",
              "    </tr>\n",
              "    <tr>\n",
              "      <th>527</th>\n",
              "      <td>gásnatural</td>\n",
              "      <td>gásnatural</td>\n",
              "    </tr>\n",
              "    <tr>\n",
              "      <th>...</th>\n",
              "      <td>...</td>\n",
              "      <td>...</td>\n",
              "    </tr>\n",
              "    <tr>\n",
              "      <th>96914</th>\n",
              "      <td>flex</td>\n",
              "      <td>flex</td>\n",
              "    </tr>\n",
              "    <tr>\n",
              "      <th>96951</th>\n",
              "      <td>gasolina</td>\n",
              "      <td>gasolina</td>\n",
              "    </tr>\n",
              "    <tr>\n",
              "      <th>97169</th>\n",
              "      <td>flex</td>\n",
              "      <td>flex</td>\n",
              "    </tr>\n",
              "    <tr>\n",
              "      <th>97278</th>\n",
              "      <td>gasolina</td>\n",
              "      <td>gasolina</td>\n",
              "    </tr>\n",
              "    <tr>\n",
              "      <th>97452</th>\n",
              "      <td>gasolina</td>\n",
              "      <td>gasolina</td>\n",
              "    </tr>\n",
              "  </tbody>\n",
              "</table>\n",
              "<p>779 rows × 2 columns</p>\n",
              "</div>\n",
              "      <button class=\"colab-df-convert\" onclick=\"convertToInteractive('df-5e76bc97-f986-4562-ad51-1558edb95aec')\"\n",
              "              title=\"Convert this dataframe to an interactive table.\"\n",
              "              style=\"display:none;\">\n",
              "        \n",
              "  <svg xmlns=\"http://www.w3.org/2000/svg\" height=\"24px\"viewBox=\"0 0 24 24\"\n",
              "       width=\"24px\">\n",
              "    <path d=\"M0 0h24v24H0V0z\" fill=\"none\"/>\n",
              "    <path d=\"M18.56 5.44l.94 2.06.94-2.06 2.06-.94-2.06-.94-.94-2.06-.94 2.06-2.06.94zm-11 1L8.5 8.5l.94-2.06 2.06-.94-2.06-.94L8.5 2.5l-.94 2.06-2.06.94zm10 10l.94 2.06.94-2.06 2.06-.94-2.06-.94-.94-2.06-.94 2.06-2.06.94z\"/><path d=\"M17.41 7.96l-1.37-1.37c-.4-.4-.92-.59-1.43-.59-.52 0-1.04.2-1.43.59L10.3 9.45l-7.72 7.72c-.78.78-.78 2.05 0 2.83L4 21.41c.39.39.9.59 1.41.59.51 0 1.02-.2 1.41-.59l7.78-7.78 2.81-2.81c.8-.78.8-2.07 0-2.86zM5.41 20L4 18.59l7.72-7.72 1.47 1.35L5.41 20z\"/>\n",
              "  </svg>\n",
              "      </button>\n",
              "      \n",
              "  <style>\n",
              "    .colab-df-container {\n",
              "      display:flex;\n",
              "      flex-wrap:wrap;\n",
              "      gap: 12px;\n",
              "    }\n",
              "\n",
              "    .colab-df-convert {\n",
              "      background-color: #E8F0FE;\n",
              "      border: none;\n",
              "      border-radius: 50%;\n",
              "      cursor: pointer;\n",
              "      display: none;\n",
              "      fill: #1967D2;\n",
              "      height: 32px;\n",
              "      padding: 0 0 0 0;\n",
              "      width: 32px;\n",
              "    }\n",
              "\n",
              "    .colab-df-convert:hover {\n",
              "      background-color: #E2EBFA;\n",
              "      box-shadow: 0px 1px 2px rgba(60, 64, 67, 0.3), 0px 1px 3px 1px rgba(60, 64, 67, 0.15);\n",
              "      fill: #174EA6;\n",
              "    }\n",
              "\n",
              "    [theme=dark] .colab-df-convert {\n",
              "      background-color: #3B4455;\n",
              "      fill: #D2E3FC;\n",
              "    }\n",
              "\n",
              "    [theme=dark] .colab-df-convert:hover {\n",
              "      background-color: #434B5C;\n",
              "      box-shadow: 0px 1px 3px 1px rgba(0, 0, 0, 0.15);\n",
              "      filter: drop-shadow(0px 1px 2px rgba(0, 0, 0, 0.3));\n",
              "      fill: #FFFFFF;\n",
              "    }\n",
              "  </style>\n",
              "\n",
              "      <script>\n",
              "        const buttonEl =\n",
              "          document.querySelector('#df-5e76bc97-f986-4562-ad51-1558edb95aec button.colab-df-convert');\n",
              "        buttonEl.style.display =\n",
              "          google.colab.kernel.accessAllowed ? 'block' : 'none';\n",
              "\n",
              "        async function convertToInteractive(key) {\n",
              "          const element = document.querySelector('#df-5e76bc97-f986-4562-ad51-1558edb95aec');\n",
              "          const dataTable =\n",
              "            await google.colab.kernel.invokeFunction('convertToInteractive',\n",
              "                                                     [key], {});\n",
              "          if (!dataTable) return;\n",
              "\n",
              "          const docLinkHtml = 'Like what you see? Visit the ' +\n",
              "            '<a target=\"_blank\" href=https://colab.research.google.com/notebooks/data_table.ipynb>data table notebook</a>'\n",
              "            + ' to learn more about interactive tables.';\n",
              "          element.innerHTML = '';\n",
              "          dataTable['output_type'] = 'display_data';\n",
              "          await google.colab.output.renderOutput(dataTable, element);\n",
              "          const docLink = document.createElement('div');\n",
              "          docLink.innerHTML = docLinkHtml;\n",
              "          element.appendChild(docLink);\n",
              "        }\n",
              "      </script>\n",
              "    </div>\n",
              "  </div>\n",
              "  "
            ]
          },
          "metadata": {},
          "execution_count": 38
        }
      ]
    },
    {
      "cell_type": "code",
      "source": [
        "## APAGANDO VALORES ERRADOS DA COLUNA CAMBIO\n",
        "df_metadados_limpos_3.loc[df_metadados_limpos_3.ID.isin(ids_errados),'CAMBIO'] = None"
      ],
      "metadata": {
        "id": "qtCX1saSAdf8"
      },
      "execution_count": 39,
      "outputs": []
    },
    {
      "cell_type": "code",
      "source": [
        "# VERIFICANDO ALTERAÇÕES\n",
        "df_metadados_limpos_3.query(f\"ID in {ids_errados.tolist()}\")[['CAMBIO','COMBUSTIVEL']]"
      ],
      "metadata": {
        "id": "nmo3qIdQAdk9",
        "colab": {
          "base_uri": "https://localhost:8080/",
          "height": 424
        },
        "outputId": "ac0b42c6-6ef2-4b74-fd49-c1d0d7824e02"
      },
      "execution_count": 40,
      "outputs": [
        {
          "output_type": "execute_result",
          "data": {
            "text/plain": [
              "      CAMBIO COMBUSTIVEL\n",
              "187     None        flex\n",
              "289     None        flex\n",
              "298     None      diesel\n",
              "393     None        flex\n",
              "527     None  gásnatural\n",
              "...      ...         ...\n",
              "96914   None        flex\n",
              "96951   None    gasolina\n",
              "97169   None        flex\n",
              "97278   None    gasolina\n",
              "97452   None    gasolina\n",
              "\n",
              "[779 rows x 2 columns]"
            ],
            "text/html": [
              "\n",
              "  <div id=\"df-364bc238-3bfe-49a7-9c7a-3396aaad618f\">\n",
              "    <div class=\"colab-df-container\">\n",
              "      <div>\n",
              "<style scoped>\n",
              "    .dataframe tbody tr th:only-of-type {\n",
              "        vertical-align: middle;\n",
              "    }\n",
              "\n",
              "    .dataframe tbody tr th {\n",
              "        vertical-align: top;\n",
              "    }\n",
              "\n",
              "    .dataframe thead th {\n",
              "        text-align: right;\n",
              "    }\n",
              "</style>\n",
              "<table border=\"1\" class=\"dataframe\">\n",
              "  <thead>\n",
              "    <tr style=\"text-align: right;\">\n",
              "      <th></th>\n",
              "      <th>CAMBIO</th>\n",
              "      <th>COMBUSTIVEL</th>\n",
              "    </tr>\n",
              "  </thead>\n",
              "  <tbody>\n",
              "    <tr>\n",
              "      <th>187</th>\n",
              "      <td>None</td>\n",
              "      <td>flex</td>\n",
              "    </tr>\n",
              "    <tr>\n",
              "      <th>289</th>\n",
              "      <td>None</td>\n",
              "      <td>flex</td>\n",
              "    </tr>\n",
              "    <tr>\n",
              "      <th>298</th>\n",
              "      <td>None</td>\n",
              "      <td>diesel</td>\n",
              "    </tr>\n",
              "    <tr>\n",
              "      <th>393</th>\n",
              "      <td>None</td>\n",
              "      <td>flex</td>\n",
              "    </tr>\n",
              "    <tr>\n",
              "      <th>527</th>\n",
              "      <td>None</td>\n",
              "      <td>gásnatural</td>\n",
              "    </tr>\n",
              "    <tr>\n",
              "      <th>...</th>\n",
              "      <td>...</td>\n",
              "      <td>...</td>\n",
              "    </tr>\n",
              "    <tr>\n",
              "      <th>96914</th>\n",
              "      <td>None</td>\n",
              "      <td>flex</td>\n",
              "    </tr>\n",
              "    <tr>\n",
              "      <th>96951</th>\n",
              "      <td>None</td>\n",
              "      <td>gasolina</td>\n",
              "    </tr>\n",
              "    <tr>\n",
              "      <th>97169</th>\n",
              "      <td>None</td>\n",
              "      <td>flex</td>\n",
              "    </tr>\n",
              "    <tr>\n",
              "      <th>97278</th>\n",
              "      <td>None</td>\n",
              "      <td>gasolina</td>\n",
              "    </tr>\n",
              "    <tr>\n",
              "      <th>97452</th>\n",
              "      <td>None</td>\n",
              "      <td>gasolina</td>\n",
              "    </tr>\n",
              "  </tbody>\n",
              "</table>\n",
              "<p>779 rows × 2 columns</p>\n",
              "</div>\n",
              "      <button class=\"colab-df-convert\" onclick=\"convertToInteractive('df-364bc238-3bfe-49a7-9c7a-3396aaad618f')\"\n",
              "              title=\"Convert this dataframe to an interactive table.\"\n",
              "              style=\"display:none;\">\n",
              "        \n",
              "  <svg xmlns=\"http://www.w3.org/2000/svg\" height=\"24px\"viewBox=\"0 0 24 24\"\n",
              "       width=\"24px\">\n",
              "    <path d=\"M0 0h24v24H0V0z\" fill=\"none\"/>\n",
              "    <path d=\"M18.56 5.44l.94 2.06.94-2.06 2.06-.94-2.06-.94-.94-2.06-.94 2.06-2.06.94zm-11 1L8.5 8.5l.94-2.06 2.06-.94-2.06-.94L8.5 2.5l-.94 2.06-2.06.94zm10 10l.94 2.06.94-2.06 2.06-.94-2.06-.94-.94-2.06-.94 2.06-2.06.94z\"/><path d=\"M17.41 7.96l-1.37-1.37c-.4-.4-.92-.59-1.43-.59-.52 0-1.04.2-1.43.59L10.3 9.45l-7.72 7.72c-.78.78-.78 2.05 0 2.83L4 21.41c.39.39.9.59 1.41.59.51 0 1.02-.2 1.41-.59l7.78-7.78 2.81-2.81c.8-.78.8-2.07 0-2.86zM5.41 20L4 18.59l7.72-7.72 1.47 1.35L5.41 20z\"/>\n",
              "  </svg>\n",
              "      </button>\n",
              "      \n",
              "  <style>\n",
              "    .colab-df-container {\n",
              "      display:flex;\n",
              "      flex-wrap:wrap;\n",
              "      gap: 12px;\n",
              "    }\n",
              "\n",
              "    .colab-df-convert {\n",
              "      background-color: #E8F0FE;\n",
              "      border: none;\n",
              "      border-radius: 50%;\n",
              "      cursor: pointer;\n",
              "      display: none;\n",
              "      fill: #1967D2;\n",
              "      height: 32px;\n",
              "      padding: 0 0 0 0;\n",
              "      width: 32px;\n",
              "    }\n",
              "\n",
              "    .colab-df-convert:hover {\n",
              "      background-color: #E2EBFA;\n",
              "      box-shadow: 0px 1px 2px rgba(60, 64, 67, 0.3), 0px 1px 3px 1px rgba(60, 64, 67, 0.15);\n",
              "      fill: #174EA6;\n",
              "    }\n",
              "\n",
              "    [theme=dark] .colab-df-convert {\n",
              "      background-color: #3B4455;\n",
              "      fill: #D2E3FC;\n",
              "    }\n",
              "\n",
              "    [theme=dark] .colab-df-convert:hover {\n",
              "      background-color: #434B5C;\n",
              "      box-shadow: 0px 1px 3px 1px rgba(0, 0, 0, 0.15);\n",
              "      filter: drop-shadow(0px 1px 2px rgba(0, 0, 0, 0.3));\n",
              "      fill: #FFFFFF;\n",
              "    }\n",
              "  </style>\n",
              "\n",
              "      <script>\n",
              "        const buttonEl =\n",
              "          document.querySelector('#df-364bc238-3bfe-49a7-9c7a-3396aaad618f button.colab-df-convert');\n",
              "        buttonEl.style.display =\n",
              "          google.colab.kernel.accessAllowed ? 'block' : 'none';\n",
              "\n",
              "        async function convertToInteractive(key) {\n",
              "          const element = document.querySelector('#df-364bc238-3bfe-49a7-9c7a-3396aaad618f');\n",
              "          const dataTable =\n",
              "            await google.colab.kernel.invokeFunction('convertToInteractive',\n",
              "                                                     [key], {});\n",
              "          if (!dataTable) return;\n",
              "\n",
              "          const docLinkHtml = 'Like what you see? Visit the ' +\n",
              "            '<a target=\"_blank\" href=https://colab.research.google.com/notebooks/data_table.ipynb>data table notebook</a>'\n",
              "            + ' to learn more about interactive tables.';\n",
              "          element.innerHTML = '';\n",
              "          dataTable['output_type'] = 'display_data';\n",
              "          await google.colab.output.renderOutput(dataTable, element);\n",
              "          const docLink = document.createElement('div');\n",
              "          docLink.innerHTML = docLinkHtml;\n",
              "          element.appendChild(docLink);\n",
              "        }\n",
              "      </script>\n",
              "    </div>\n",
              "  </div>\n",
              "  "
            ]
          },
          "metadata": {},
          "execution_count": 40
        }
      ]
    },
    {
      "cell_type": "code",
      "source": [
        "df_metadados_limpos_3.shape"
      ],
      "metadata": {
        "id": "gNM4djF-AdnK",
        "colab": {
          "base_uri": "https://localhost:8080/"
        },
        "outputId": "8834204a-c402-4987-d938-31c696a5decd"
      },
      "execution_count": 41,
      "outputs": [
        {
          "output_type": "execute_result",
          "data": {
            "text/plain": [
              "(97588, 14)"
            ]
          },
          "metadata": {},
          "execution_count": 41
        }
      ]
    },
    {
      "cell_type": "code",
      "source": [
        "df_metadados_limpos_3.head()"
      ],
      "metadata": {
        "id": "K3Pxi9g898Bz",
        "colab": {
          "base_uri": "https://localhost:8080/",
          "height": 565
        },
        "outputId": "2a2430ff-77e8-47d3-ff3f-1a95d14e6a14"
      },
      "execution_count": 42,
      "outputs": [
        {
          "output_type": "execute_result",
          "data": {
            "text/plain": [
              "           ID                         TITULO  \\\n",
              "0   941490102                nissan versa sv   \n",
              "1  1028087752  vende-se fiat uno motor fire    \n",
              "2  1028087412               fiesta titanium    \n",
              "3  1028074386      chevrolet s10 ltz diesel    \n",
              "4  1028074010            vende-se fiat stilo   \n",
              "\n",
              "                                               INFOS       VALOR  \\\n",
              "0         46.000 km  |  câmbio: manual  |  flex  |     r$ 56.000   \n",
              "1        158 km  |  câmbio: manual  |  gasolina  |     r$ 12.500   \n",
              "2  86.790 km  |  câmbio: automático  |  gasolina ...   r$ 38.000   \n",
              "3   89.000 km  |  câmbio: automático  |  diesel  |    r$ 131.990   \n",
              "4        170.000 km  |  câmbio: manual  |  flex  |     r$ 16.000   \n",
              "\n",
              "                                     LOCAL DATA_ANUNCIO  \\\n",
              "0              rio branco, bosque - ddd 68  hoje, 15:19   \n",
              "1                  sena madureira - ddd 68  hoje, 15:18   \n",
              "2       rio branco, morada do sol - ddd 68  hoje, 15:17   \n",
              "3                      rio branco - ddd 68  hoje, 14:56   \n",
              "4  rio branco, portal da amazônia - ddd 68  hoje, 14:55   \n",
              "\n",
              "                                                LINK DATA_COLETA_METADADOS  \\\n",
              "0  https://ac.olx.com.br/acre/autos-e-pecas/carro...            2022-05-03   \n",
              "1  https://ac.olx.com.br/acre/autos-e-pecas/carro...            2022-05-03   \n",
              "2  https://ac.olx.com.br/acre/autos-e-pecas/carro...            2022-05-03   \n",
              "3  https://ac.olx.com.br/acre/autos-e-pecas/carro...            2022-05-03   \n",
              "4  https://ac.olx.com.br/acre/autos-e-pecas/carro...            2022-05-03   \n",
              "\n",
              "   UF     Ano      KM      CAMBIO COMBUSTIVEL VALOR_LIMPO  \n",
              "0  ac  2017.0   46000      manual        flex       56000  \n",
              "1  ac  2003.0     158      manual    gasolina       12500  \n",
              "2  ac  2013.0   86790  automático    gasolina       38000  \n",
              "3  ac  2013.0   89000  automático      diesel      131990  \n",
              "4  ac  2007.0  170000      manual        flex       16000  "
            ],
            "text/html": [
              "\n",
              "  <div id=\"df-b9a3cd10-2b1b-4aa9-9a52-59ff8b1aa367\">\n",
              "    <div class=\"colab-df-container\">\n",
              "      <div>\n",
              "<style scoped>\n",
              "    .dataframe tbody tr th:only-of-type {\n",
              "        vertical-align: middle;\n",
              "    }\n",
              "\n",
              "    .dataframe tbody tr th {\n",
              "        vertical-align: top;\n",
              "    }\n",
              "\n",
              "    .dataframe thead th {\n",
              "        text-align: right;\n",
              "    }\n",
              "</style>\n",
              "<table border=\"1\" class=\"dataframe\">\n",
              "  <thead>\n",
              "    <tr style=\"text-align: right;\">\n",
              "      <th></th>\n",
              "      <th>ID</th>\n",
              "      <th>TITULO</th>\n",
              "      <th>INFOS</th>\n",
              "      <th>VALOR</th>\n",
              "      <th>LOCAL</th>\n",
              "      <th>DATA_ANUNCIO</th>\n",
              "      <th>LINK</th>\n",
              "      <th>DATA_COLETA_METADADOS</th>\n",
              "      <th>UF</th>\n",
              "      <th>Ano</th>\n",
              "      <th>KM</th>\n",
              "      <th>CAMBIO</th>\n",
              "      <th>COMBUSTIVEL</th>\n",
              "      <th>VALOR_LIMPO</th>\n",
              "    </tr>\n",
              "  </thead>\n",
              "  <tbody>\n",
              "    <tr>\n",
              "      <th>0</th>\n",
              "      <td>941490102</td>\n",
              "      <td>nissan versa sv</td>\n",
              "      <td>46.000 km  |  câmbio: manual  |  flex  |</td>\n",
              "      <td>r$ 56.000</td>\n",
              "      <td>rio branco, bosque - ddd 68</td>\n",
              "      <td>hoje, 15:19</td>\n",
              "      <td>https://ac.olx.com.br/acre/autos-e-pecas/carro...</td>\n",
              "      <td>2022-05-03</td>\n",
              "      <td>ac</td>\n",
              "      <td>2017.0</td>\n",
              "      <td>46000</td>\n",
              "      <td>manual</td>\n",
              "      <td>flex</td>\n",
              "      <td>56000</td>\n",
              "    </tr>\n",
              "    <tr>\n",
              "      <th>1</th>\n",
              "      <td>1028087752</td>\n",
              "      <td>vende-se fiat uno motor fire</td>\n",
              "      <td>158 km  |  câmbio: manual  |  gasolina  |</td>\n",
              "      <td>r$ 12.500</td>\n",
              "      <td>sena madureira - ddd 68</td>\n",
              "      <td>hoje, 15:18</td>\n",
              "      <td>https://ac.olx.com.br/acre/autos-e-pecas/carro...</td>\n",
              "      <td>2022-05-03</td>\n",
              "      <td>ac</td>\n",
              "      <td>2003.0</td>\n",
              "      <td>158</td>\n",
              "      <td>manual</td>\n",
              "      <td>gasolina</td>\n",
              "      <td>12500</td>\n",
              "    </tr>\n",
              "    <tr>\n",
              "      <th>2</th>\n",
              "      <td>1028087412</td>\n",
              "      <td>fiesta titanium</td>\n",
              "      <td>86.790 km  |  câmbio: automático  |  gasolina ...</td>\n",
              "      <td>r$ 38.000</td>\n",
              "      <td>rio branco, morada do sol - ddd 68</td>\n",
              "      <td>hoje, 15:17</td>\n",
              "      <td>https://ac.olx.com.br/acre/autos-e-pecas/carro...</td>\n",
              "      <td>2022-05-03</td>\n",
              "      <td>ac</td>\n",
              "      <td>2013.0</td>\n",
              "      <td>86790</td>\n",
              "      <td>automático</td>\n",
              "      <td>gasolina</td>\n",
              "      <td>38000</td>\n",
              "    </tr>\n",
              "    <tr>\n",
              "      <th>3</th>\n",
              "      <td>1028074386</td>\n",
              "      <td>chevrolet s10 ltz diesel</td>\n",
              "      <td>89.000 km  |  câmbio: automático  |  diesel  |</td>\n",
              "      <td>r$ 131.990</td>\n",
              "      <td>rio branco - ddd 68</td>\n",
              "      <td>hoje, 14:56</td>\n",
              "      <td>https://ac.olx.com.br/acre/autos-e-pecas/carro...</td>\n",
              "      <td>2022-05-03</td>\n",
              "      <td>ac</td>\n",
              "      <td>2013.0</td>\n",
              "      <td>89000</td>\n",
              "      <td>automático</td>\n",
              "      <td>diesel</td>\n",
              "      <td>131990</td>\n",
              "    </tr>\n",
              "    <tr>\n",
              "      <th>4</th>\n",
              "      <td>1028074010</td>\n",
              "      <td>vende-se fiat stilo</td>\n",
              "      <td>170.000 km  |  câmbio: manual  |  flex  |</td>\n",
              "      <td>r$ 16.000</td>\n",
              "      <td>rio branco, portal da amazônia - ddd 68</td>\n",
              "      <td>hoje, 14:55</td>\n",
              "      <td>https://ac.olx.com.br/acre/autos-e-pecas/carro...</td>\n",
              "      <td>2022-05-03</td>\n",
              "      <td>ac</td>\n",
              "      <td>2007.0</td>\n",
              "      <td>170000</td>\n",
              "      <td>manual</td>\n",
              "      <td>flex</td>\n",
              "      <td>16000</td>\n",
              "    </tr>\n",
              "  </tbody>\n",
              "</table>\n",
              "</div>\n",
              "      <button class=\"colab-df-convert\" onclick=\"convertToInteractive('df-b9a3cd10-2b1b-4aa9-9a52-59ff8b1aa367')\"\n",
              "              title=\"Convert this dataframe to an interactive table.\"\n",
              "              style=\"display:none;\">\n",
              "        \n",
              "  <svg xmlns=\"http://www.w3.org/2000/svg\" height=\"24px\"viewBox=\"0 0 24 24\"\n",
              "       width=\"24px\">\n",
              "    <path d=\"M0 0h24v24H0V0z\" fill=\"none\"/>\n",
              "    <path d=\"M18.56 5.44l.94 2.06.94-2.06 2.06-.94-2.06-.94-.94-2.06-.94 2.06-2.06.94zm-11 1L8.5 8.5l.94-2.06 2.06-.94-2.06-.94L8.5 2.5l-.94 2.06-2.06.94zm10 10l.94 2.06.94-2.06 2.06-.94-2.06-.94-.94-2.06-.94 2.06-2.06.94z\"/><path d=\"M17.41 7.96l-1.37-1.37c-.4-.4-.92-.59-1.43-.59-.52 0-1.04.2-1.43.59L10.3 9.45l-7.72 7.72c-.78.78-.78 2.05 0 2.83L4 21.41c.39.39.9.59 1.41.59.51 0 1.02-.2 1.41-.59l7.78-7.78 2.81-2.81c.8-.78.8-2.07 0-2.86zM5.41 20L4 18.59l7.72-7.72 1.47 1.35L5.41 20z\"/>\n",
              "  </svg>\n",
              "      </button>\n",
              "      \n",
              "  <style>\n",
              "    .colab-df-container {\n",
              "      display:flex;\n",
              "      flex-wrap:wrap;\n",
              "      gap: 12px;\n",
              "    }\n",
              "\n",
              "    .colab-df-convert {\n",
              "      background-color: #E8F0FE;\n",
              "      border: none;\n",
              "      border-radius: 50%;\n",
              "      cursor: pointer;\n",
              "      display: none;\n",
              "      fill: #1967D2;\n",
              "      height: 32px;\n",
              "      padding: 0 0 0 0;\n",
              "      width: 32px;\n",
              "    }\n",
              "\n",
              "    .colab-df-convert:hover {\n",
              "      background-color: #E2EBFA;\n",
              "      box-shadow: 0px 1px 2px rgba(60, 64, 67, 0.3), 0px 1px 3px 1px rgba(60, 64, 67, 0.15);\n",
              "      fill: #174EA6;\n",
              "    }\n",
              "\n",
              "    [theme=dark] .colab-df-convert {\n",
              "      background-color: #3B4455;\n",
              "      fill: #D2E3FC;\n",
              "    }\n",
              "\n",
              "    [theme=dark] .colab-df-convert:hover {\n",
              "      background-color: #434B5C;\n",
              "      box-shadow: 0px 1px 3px 1px rgba(0, 0, 0, 0.15);\n",
              "      filter: drop-shadow(0px 1px 2px rgba(0, 0, 0, 0.3));\n",
              "      fill: #FFFFFF;\n",
              "    }\n",
              "  </style>\n",
              "\n",
              "      <script>\n",
              "        const buttonEl =\n",
              "          document.querySelector('#df-b9a3cd10-2b1b-4aa9-9a52-59ff8b1aa367 button.colab-df-convert');\n",
              "        buttonEl.style.display =\n",
              "          google.colab.kernel.accessAllowed ? 'block' : 'none';\n",
              "\n",
              "        async function convertToInteractive(key) {\n",
              "          const element = document.querySelector('#df-b9a3cd10-2b1b-4aa9-9a52-59ff8b1aa367');\n",
              "          const dataTable =\n",
              "            await google.colab.kernel.invokeFunction('convertToInteractive',\n",
              "                                                     [key], {});\n",
              "          if (!dataTable) return;\n",
              "\n",
              "          const docLinkHtml = 'Like what you see? Visit the ' +\n",
              "            '<a target=\"_blank\" href=https://colab.research.google.com/notebooks/data_table.ipynb>data table notebook</a>'\n",
              "            + ' to learn more about interactive tables.';\n",
              "          element.innerHTML = '';\n",
              "          dataTable['output_type'] = 'display_data';\n",
              "          await google.colab.output.renderOutput(dataTable, element);\n",
              "          const docLink = document.createElement('div');\n",
              "          docLink.innerHTML = docLinkHtml;\n",
              "          element.appendChild(docLink);\n",
              "        }\n",
              "      </script>\n",
              "    </div>\n",
              "  </div>\n",
              "  "
            ]
          },
          "metadata": {},
          "execution_count": 42
        }
      ]
    },
    {
      "cell_type": "code",
      "source": [
        "df_metadados_limpos_3.columns"
      ],
      "metadata": {
        "id": "PDm8T-PSk-XV",
        "colab": {
          "base_uri": "https://localhost:8080/"
        },
        "outputId": "64f07795-c87a-4d76-f9e4-6187ed23ed60"
      },
      "execution_count": 43,
      "outputs": [
        {
          "output_type": "execute_result",
          "data": {
            "text/plain": [
              "Index(['ID', 'TITULO', 'INFOS', 'VALOR', 'LOCAL', 'DATA_ANUNCIO', 'LINK',\n",
              "       'DATA_COLETA_METADADOS', 'UF', 'Ano', 'KM', 'CAMBIO', 'COMBUSTIVEL',\n",
              "       'VALOR_LIMPO'],\n",
              "      dtype='object')"
            ]
          },
          "metadata": {},
          "execution_count": 43
        }
      ]
    },
    {
      "cell_type": "code",
      "source": [
        "print(\"==== INDICE DE NULOS NOS ATRIBUTOS ====\")\n",
        "dados = df_metadados_limpos_3.copy()\n",
        "(dados.isnull().sum()/len(dados)*100).sort_values(ascending=False)"
      ],
      "metadata": {
        "colab": {
          "base_uri": "https://localhost:8080/"
        },
        "id": "WMl7ant4gBK8",
        "outputId": "eac76992-72d9-46b2-9853-e4b60d38c395"
      },
      "execution_count": 44,
      "outputs": [
        {
          "output_type": "stream",
          "name": "stdout",
          "text": [
            "==== INDICE DE NULOS NOS ATRIBUTOS ====\n"
          ]
        },
        {
          "output_type": "execute_result",
          "data": {
            "text/plain": [
              "Ano                      15.546993\n",
              "COMBUSTIVEL               3.282166\n",
              "CAMBIO                    2.735992\n",
              "ID                        0.000000\n",
              "TITULO                    0.000000\n",
              "INFOS                     0.000000\n",
              "VALOR                     0.000000\n",
              "LOCAL                     0.000000\n",
              "DATA_ANUNCIO              0.000000\n",
              "LINK                      0.000000\n",
              "DATA_COLETA_METADADOS     0.000000\n",
              "UF                        0.000000\n",
              "KM                        0.000000\n",
              "VALOR_LIMPO               0.000000\n",
              "dtype: float64"
            ]
          },
          "metadata": {},
          "execution_count": 44
        }
      ]
    },
    {
      "cell_type": "code",
      "source": [
        "df_metadados_limpos_3.to_csv(\"df_metadados_limpos_3.csv\",index=False)"
      ],
      "metadata": {
        "id": "Yw-u8rYB9HVF"
      },
      "execution_count": 45,
      "outputs": []
    },
    {
      "cell_type": "markdown",
      "source": [
        "### **TRATANDO VALORES EM ANO**\n"
      ],
      "metadata": {
        "id": "eWrJCS7HpQr9"
      }
    },
    {
      "cell_type": "code",
      "source": [
        "## VERIFICANDO VALORES ÚNICOS\n",
        "df_metadados_limpos_3.Ano.unique()"
      ],
      "metadata": {
        "colab": {
          "base_uri": "https://localhost:8080/"
        },
        "id": "EVedJOZSpOtf",
        "outputId": "a3387723-1f6a-4833-cf1b-9d7d1ee3452b"
      },
      "execution_count": 46,
      "outputs": [
        {
          "output_type": "execute_result",
          "data": {
            "text/plain": [
              "array([2017.0, 2003.0, 2013.0, 2007.0, 2018.0, 2021.0, 2015.0, 2011.0,\n",
              "       2012.0, 2020.0, 2016.0, 2010.0, nan, 2014.0, 2000.0, 2022.0,\n",
              "       2006.0, 2019.0, 2008.0, 2005.0, 1989.0, 2009.0, 2023.0, 1999.0,\n",
              "       2002.0, 1994.0, 1996.0, 1990.0, 1995.0, 1997.0, 1998.0, 1980.0,\n",
              "       1993.0, 2004.0, 1988.0, 2001.0, 1991.0, 1982.0, 1970.0, 1992.0,\n",
              "       1981.0, 1975.0, 1986.0, 1985.0, 1984.0, 1955.0, '2012', '2007',\n",
              "       '2020', '2019', '2003', '2021', '2011', '2017', '2022', '2016',\n",
              "       '2004', '2013', '2018', '2015', '2014', '2006', '2009', '1997',\n",
              "       '2008', '2010', '2005', '2001', '2000', '1999', '1995', '1986',\n",
              "       '1994', '2002', '1998', '1965', '1980', '1987', '1984', '1993',\n",
              "       '2023', '1960', '1991', '1975', '1989', '1982', '1992',\n",
              "       '1950 ou anterior', '1970', '1990', '1996', '1983', '1988', '1985',\n",
              "       1965.0, 1983.0, 1987.0, 1960.0, '1971', 1979.0, '1981', '1955',\n",
              "       1974.0, 1978.0, '1973', '1976', '1978', '1974'], dtype=object)"
            ]
          },
          "metadata": {},
          "execution_count": 46
        }
      ]
    },
    {
      "cell_type": "code",
      "source": [
        "## CORRIGINDO VALORES(retirando textos)\n",
        "df_metadados_limpos_3.Ano = df_metadados_limpos_3.Ano.astype(str).str.replace(\" ou anterior\",\"\")#.astype(float)"
      ],
      "metadata": {
        "id": "-n4E47ZNpSpI"
      },
      "execution_count": 47,
      "outputs": []
    },
    {
      "cell_type": "code",
      "source": [
        "## VERIFICANDO VALORES ÚNICOS\n",
        "df_metadados_limpos_3.Ano.unique()"
      ],
      "metadata": {
        "colab": {
          "base_uri": "https://localhost:8080/"
        },
        "id": "vw26ZoghfmE-",
        "outputId": "cf31925a-1adf-49a0-8136-f987d1c329fd"
      },
      "execution_count": 48,
      "outputs": [
        {
          "output_type": "execute_result",
          "data": {
            "text/plain": [
              "array(['2017.0', '2003.0', '2013.0', '2007.0', '2018.0', '2021.0',\n",
              "       '2015.0', '2011.0', '2012.0', '2020.0', '2016.0', '2010.0', 'nan',\n",
              "       '2014.0', '2000.0', '2022.0', '2006.0', '2019.0', '2008.0',\n",
              "       '2005.0', '1989.0', '2009.0', '2023.0', '1999.0', '2002.0',\n",
              "       '1994.0', '1996.0', '1990.0', '1995.0', '1997.0', '1998.0',\n",
              "       '1980.0', '1993.0', '2004.0', '1988.0', '2001.0', '1991.0',\n",
              "       '1982.0', '1970.0', '1992.0', '1981.0', '1975.0', '1986.0',\n",
              "       '1985.0', '1984.0', '1955.0', '2012', '2007', '2020', '2019',\n",
              "       '2003', '2021', '2011', '2017', '2022', '2016', '2004', '2013',\n",
              "       '2018', '2015', '2014', '2006', '2009', '1997', '2008', '2010',\n",
              "       '2005', '2001', '2000', '1999', '1995', '1986', '1994', '2002',\n",
              "       '1998', '1965', '1980', '1987', '1984', '1993', '2023', '1960',\n",
              "       '1991', '1975', '1989', '1982', '1992', '1950', '1970', '1990',\n",
              "       '1996', '1983', '1988', '1985', '1965.0', '1983.0', '1987.0',\n",
              "       '1960.0', '1971', '1979.0', '1981', '1955', '1974.0', '1978.0',\n",
              "       '1973', '1976', '1978', '1974'], dtype=object)"
            ]
          },
          "metadata": {},
          "execution_count": 48
        }
      ]
    },
    {
      "cell_type": "code",
      "source": [
        "##VERIFICANDO TIPO DOS ATRIBUTOS(COLUNAS)\n",
        "df_metadados_limpos_3.info()"
      ],
      "metadata": {
        "colab": {
          "base_uri": "https://localhost:8080/"
        },
        "id": "hJDrqTkIgry_",
        "outputId": "d0f6f159-15b4-42d0-fb73-9b5879127e81"
      },
      "execution_count": 49,
      "outputs": [
        {
          "output_type": "stream",
          "name": "stdout",
          "text": [
            "<class 'pandas.core.frame.DataFrame'>\n",
            "RangeIndex: 97588 entries, 0 to 97587\n",
            "Data columns (total 14 columns):\n",
            " #   Column                 Non-Null Count  Dtype \n",
            "---  ------                 --------------  ----- \n",
            " 0   ID                     97588 non-null  int64 \n",
            " 1   TITULO                 97588 non-null  object\n",
            " 2   INFOS                  97588 non-null  object\n",
            " 3   VALOR                  97588 non-null  object\n",
            " 4   LOCAL                  97588 non-null  object\n",
            " 5   DATA_ANUNCIO           97588 non-null  object\n",
            " 6   LINK                   97588 non-null  object\n",
            " 7   DATA_COLETA_METADADOS  97588 non-null  object\n",
            " 8   UF                     97588 non-null  object\n",
            " 9   Ano                    97588 non-null  object\n",
            " 10  KM                     97588 non-null  object\n",
            " 11  CAMBIO                 94918 non-null  object\n",
            " 12  COMBUSTIVEL            94385 non-null  object\n",
            " 13  VALOR_LIMPO            97588 non-null  object\n",
            "dtypes: int64(1), object(13)\n",
            "memory usage: 10.4+ MB\n"
          ]
        }
      ]
    },
    {
      "cell_type": "code",
      "source": [
        "df_metadados_limpos_3[['KM','VALOR_LIMPO','Ano']] = df_metadados_limpos_3[['KM','VALOR_LIMPO','Ano']].apply(lambda x: x.astype(float))"
      ],
      "metadata": {
        "id": "HJqffceLg2N-"
      },
      "execution_count": 50,
      "outputs": []
    },
    {
      "cell_type": "code",
      "source": [
        "df_metadados_limpos_3.info()"
      ],
      "metadata": {
        "colab": {
          "base_uri": "https://localhost:8080/"
        },
        "id": "uFGCpv12hHWV",
        "outputId": "cff0ac94-6f09-4527-8667-e8e2103e4d99"
      },
      "execution_count": 51,
      "outputs": [
        {
          "output_type": "stream",
          "name": "stdout",
          "text": [
            "<class 'pandas.core.frame.DataFrame'>\n",
            "RangeIndex: 97588 entries, 0 to 97587\n",
            "Data columns (total 14 columns):\n",
            " #   Column                 Non-Null Count  Dtype  \n",
            "---  ------                 --------------  -----  \n",
            " 0   ID                     97588 non-null  int64  \n",
            " 1   TITULO                 97588 non-null  object \n",
            " 2   INFOS                  97588 non-null  object \n",
            " 3   VALOR                  97588 non-null  object \n",
            " 4   LOCAL                  97588 non-null  object \n",
            " 5   DATA_ANUNCIO           97588 non-null  object \n",
            " 6   LINK                   97588 non-null  object \n",
            " 7   DATA_COLETA_METADADOS  97588 non-null  object \n",
            " 8   UF                     97588 non-null  object \n",
            " 9   Ano                    82416 non-null  float64\n",
            " 10  KM                     97588 non-null  float64\n",
            " 11  CAMBIO                 94918 non-null  object \n",
            " 12  COMBUSTIVEL            94385 non-null  object \n",
            " 13  VALOR_LIMPO            97588 non-null  float64\n",
            "dtypes: float64(3), int64(1), object(10)\n",
            "memory usage: 10.4+ MB\n"
          ]
        }
      ]
    },
    {
      "cell_type": "code",
      "source": [
        "print(\"==== INDICE DE NULOS NOS ATRIBUTOS ====\")\n",
        "dados = df_metadados_limpos_3.copy()\n",
        "(dados.isnull().sum()/len(dados)*100).sort_values(ascending=False)"
      ],
      "metadata": {
        "colab": {
          "base_uri": "https://localhost:8080/"
        },
        "id": "HaKnd475hdi9",
        "outputId": "5f8d99cc-663a-40a9-cb82-3bc45eacadff"
      },
      "execution_count": 52,
      "outputs": [
        {
          "output_type": "stream",
          "name": "stdout",
          "text": [
            "==== INDICE DE NULOS NOS ATRIBUTOS ====\n"
          ]
        },
        {
          "output_type": "execute_result",
          "data": {
            "text/plain": [
              "Ano                      15.546993\n",
              "COMBUSTIVEL               3.282166\n",
              "CAMBIO                    2.735992\n",
              "ID                        0.000000\n",
              "TITULO                    0.000000\n",
              "INFOS                     0.000000\n",
              "VALOR                     0.000000\n",
              "LOCAL                     0.000000\n",
              "DATA_ANUNCIO              0.000000\n",
              "LINK                      0.000000\n",
              "DATA_COLETA_METADADOS     0.000000\n",
              "UF                        0.000000\n",
              "KM                        0.000000\n",
              "VALOR_LIMPO               0.000000\n",
              "dtype: float64"
            ]
          },
          "metadata": {},
          "execution_count": 52
        }
      ]
    },
    {
      "cell_type": "code",
      "source": [
        "## APAGANDO LINHAS SEM VALORES\n",
        "# este tipo de procedimento não deve ser realizado de primeira,\n",
        "# mas por questão de didática será aplicado este procedimento.\n",
        "df_metadados_limpos_3.dropna(inplace=True)\n",
        "len(df_metadados_limpos_3)"
      ],
      "metadata": {
        "id": "qlMPuLx2hZWO",
        "colab": {
          "base_uri": "https://localhost:8080/"
        },
        "outputId": "cc2b7729-b372-4bbd-f70d-bfaaca00967d"
      },
      "execution_count": 53,
      "outputs": [
        {
          "output_type": "execute_result",
          "data": {
            "text/plain": [
              "79117"
            ]
          },
          "metadata": {},
          "execution_count": 53
        }
      ]
    },
    {
      "cell_type": "code",
      "source": [
        "df_metadados_limpos_3.columns"
      ],
      "metadata": {
        "id": "q0BKM6IPi3N5"
      },
      "execution_count": null,
      "outputs": []
    },
    {
      "cell_type": "code",
      "source": [
        "## SELECIONANDO APENAS AS COLUNAS DE INTERESSE\n",
        "df_metadados_limpos_3[['ID', 'TITULO','UF', 'Ano', 'KM', \n",
        "                       'CAMBIO', 'COMBUSTIVEL','VALOR_LIMPO']].to_csv(\"df_metadados_limpos_3.csv\",index=False)"
      ],
      "metadata": {
        "id": "yL_Gm39xKD2x"
      },
      "execution_count": 54,
      "outputs": []
    },
    {
      "cell_type": "code",
      "source": [
        ""
      ],
      "metadata": {
        "id": "QDF_h_RHhpyM"
      },
      "execution_count": null,
      "outputs": []
    }
  ],
  "metadata": {
    "colab": {
      "name": "02_coleta_preparacao.ipynb",
      "provenance": [],
      "collapsed_sections": [
        "QvWHwbrcDaQu",
        "maIDLBLoJ_Tj"
      ]
    },
    "kernelspec": {
      "display_name": "Python 3",
      "name": "python3"
    },
    "language_info": {
      "name": "python"
    }
  },
  "nbformat": 4,
  "nbformat_minor": 0
}